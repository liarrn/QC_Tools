{
 "cells": [
  {
   "cell_type": "code",
   "execution_count": 31,
   "metadata": {
    "collapsed": true
   },
   "outputs": [],
   "source": [
    "import paramiko\n",
    "import time"
   ]
  },
  {
   "cell_type": "code",
   "execution_count": 34,
   "metadata": {
    "collapsed": false
   },
   "outputs": [
    {
     "ename": "TypeError",
     "evalue": "list indices must be integers, not tuple",
     "output_type": "error",
     "traceback": [
      "\u001b[1;31m---------------------------------------------------------------------------\u001b[0m",
      "\u001b[1;31mTypeError\u001b[0m                                 Traceback (most recent call last)",
      "\u001b[1;32m<ipython-input-34-6294c765b64a>\u001b[0m in \u001b[0;36m<module>\u001b[1;34m()\u001b[0m\n\u001b[0;32m     15\u001b[0m             \u001b[1;32mbreak\u001b[0m\u001b[1;33m\u001b[0m\u001b[0m\n\u001b[0;32m     16\u001b[0m         \u001b[1;32mfor\u001b[0m \u001b[0mj\u001b[0m \u001b[1;32min\u001b[0m \u001b[0mrange\u001b[0m\u001b[1;33m(\u001b[0m\u001b[0mlen\u001b[0m\u001b[1;33m(\u001b[0m\u001b[0mmy_jobs\u001b[0m\u001b[1;33m[\u001b[0m\u001b[1;36m0\u001b[0m\u001b[1;33m]\u001b[0m\u001b[1;33m)\u001b[0m\u001b[1;33m)\u001b[0m\u001b[1;33m:\u001b[0m\u001b[1;33m\u001b[0m\u001b[0m\n\u001b[1;32m---> 17\u001b[1;33m             \u001b[0ma\u001b[0m\u001b[1;33m,\u001b[0m \u001b[0mb\u001b[0m\u001b[1;33m,\u001b[0m \u001b[0mc\u001b[0m \u001b[1;33m=\u001b[0m \u001b[0mssh\u001b[0m\u001b[1;33m.\u001b[0m\u001b[0mexec_command\u001b[0m\u001b[1;33m(\u001b[0m\u001b[0mmy_jobs\u001b[0m\u001b[1;33m[\u001b[0m\u001b[1;36m0\u001b[0m\u001b[1;33m,\u001b[0m \u001b[0mj\u001b[0m\u001b[1;33m]\u001b[0m\u001b[1;33m)\u001b[0m\u001b[1;33m\u001b[0m\u001b[0m\n\u001b[0m\u001b[0;32m     18\u001b[0m     \u001b[0mtime\u001b[0m\u001b[1;33m.\u001b[0m\u001b[0msleep\u001b[0m\u001b[1;33m(\u001b[0m\u001b[1;36m60\u001b[0m\u001b[1;33m)\u001b[0m\u001b[1;33m\u001b[0m\u001b[0m\n",
      "\u001b[1;31mTypeError\u001b[0m: list indices must be integers, not tuple"
     ]
    }
   ],
   "source": [
    "my_jobs = [['cd /vol-th/home/Chgy/liyd/AuNT/zigzag/20/3/5.52/opt_fine', 'yhbatch -N 6 -n 36 -p TH_NET -J 203f RunVASP.5.4.1.sh'], \\\n",
    "          ['cd /vol-th/home/Chgy/liyd/AuNT/zigzag/30/1/5.5/opt_fine', 'yhbatch -N 6 -n 36 -p TH_NET -J 301f RunVASP.5.4.1.sh'], \\\n",
    "          ['cd /vol-th/home/Chgy/liyd/AuNT/zigzag/30/2/5.52/opt_fine', 'yhbatch -N 6 -n 36 -p TH_NET -J 302f RunVASP.5.4.1.sh'], \\\n",
    "          ['cd /vol-th/home/Chgy/liyd/AuNT/armchair/33/2/9.3/opt_fine', 'yhbatch -N 6 -n 36 -p TH_NET -J 332f RunVASP.5.4.1.sh'], \\\n",
    "          ['cd /vol-th/home/Chgy/liyd/AuNT/armchair/33/3/9.31/opt_fine', 'yhbatch -N 6 -n 36 -p TH_NET -J 333f RunVASP.5.4.1.sh']]\n",
    "\n",
    "phonon_root = '/vol-th/home/Chgy/liyd/AuNT/zigzag/20/1/5.49/phonon/'\n",
    "for i in range(3, 21):\n",
    "    job = ['cd '+phonon_root+'disp-%03d'%i, 'yhbatch -N 2 -n 24 -p TH_NET -J %03d RunVASP.5.4.1.sh'%i ]\n",
    "    my_jobs.append(job)\n",
    "    \n",
    "max_jobs = 30\n",
    "ssh = paramiko.client.SSHClient()\n",
    "ssh.set_missing_host_key_policy(paramiko.AutoAddPolicy())\n",
    "ssh.connect('TH-1A-LN2', username='Chgy', password='@DjojW0Lt@()')\n",
    "while True:\n",
    "    time.sleep(60)\n",
    "    ssh_stdin, ssh_stdout, ssh_stderr = ssh.exec_command('yhqueue')\n",
    "    # print ssh_stdout.read()\n",
    "    curr_jobs = ssh_stdout.readlines()\n",
    "    curr_jobs = jobs[1: ]\n",
    "    if len(curr_jobs) == max_jobs:\n",
    "        continue\n",
    "    for i in range(max_jobs-len(curr_jobs)):\n",
    "        if len(my_jobs) == 0:\n",
    "            break\n",
    "        for j in range(len(my_jobs[0])):\n",
    "            a, b, c = ssh.exec_command(my_jobs[0][j])\n",
    "        my_jobs = my_jobs[1: ]\n",
    "    "
   ]
  },
  {
   "cell_type": "code",
   "execution_count": 13,
   "metadata": {
    "collapsed": false
   },
   "outputs": [
    {
     "name": "stdout",
     "output_type": "stream",
     "text": [
      "[u'intel\\n', u'mengjun\\n', u'nanotube\\n', u'opt\\n', u'script\\n', u'tmp\\n', u'upload\\n']\n"
     ]
    }
   ],
   "source": [
    "ssh = paramiko.client.SSHClient()\n",
    "ssh.set_missing_host_key_policy(paramiko.AutoAddPolicy())\n",
    "ssh.connect('10.15.1.21', username='liyd', password='12315')\n",
    "ssh_stdin, ssh_stdout, ssh_stderr = ssh.exec_command('ls')\n",
    "print ssh_stdout.readlines()"
   ]
  },
  {
   "cell_type": "code",
   "execution_count": 57,
   "metadata": {
    "collapsed": false
   },
   "outputs": [],
   "source": [
    "my_jobs = [['cd /vol-th/home/Chgy/liyd/AuNT/zigzag/20/3/5.52/opt_fine', 'yhbatch -N 6 -n 36 -p TH_NET -J 203f RunVASP.5.4.1.sh'], \\\n",
    "          ['cd /vol-th/home/Chgy/liyd/AuNT/zigzag/30/1/5.5/opt_fine', 'yhbatch -N 6 -n 36 -p TH_NET -J 301f RunVASP.5.4.1.sh'], \\\n",
    "          ['cd /vol-th/home/Chgy/liyd/AuNT/zigzag/30/2/5.52/opt_fine', 'yhbatch -N 6 -n 36 -p TH_NET -J 302f RunVASP.5.4.1.sh'], \\\n",
    "          ['cd /vol-th/home/Chgy/liyd/AuNT/armchair/33/2/9.3/opt_fine', 'yhbatch -N 6 -n 36 -p TH_NET -J 332f RunVASP.5.4.1.sh'], \\\n",
    "          ['cd /vol-th/home/Chgy/liyd/AuNT/armchair/33/3/9.31/opt_fine', 'yhbatch -N 6 -n 36 -p TH_NET -J 333f RunVASP.5.4.1.sh']]"
   ]
  },
  {
   "cell_type": "code",
   "execution_count": 58,
   "metadata": {
    "collapsed": false
   },
   "outputs": [
    {
     "data": {
      "text/plain": [
       "[['cd /vol-th/home/Chgy/liyd/AuNT/zigzag/20/3/5.52/opt_fine',\n",
       "  'yhbatch -N 6 -n 36 -p TH_NET -J 203f RunVASP.5.4.1.sh'],\n",
       " ['cd /vol-th/home/Chgy/liyd/AuNT/zigzag/30/1/5.5/opt_fine',\n",
       "  'yhbatch -N 6 -n 36 -p TH_NET -J 301f RunVASP.5.4.1.sh'],\n",
       " ['cd /vol-th/home/Chgy/liyd/AuNT/zigzag/30/2/5.52/opt_fine',\n",
       "  'yhbatch -N 6 -n 36 -p TH_NET -J 302f RunVASP.5.4.1.sh'],\n",
       " ['cd /vol-th/home/Chgy/liyd/AuNT/armchair/33/2/9.3/opt_fine',\n",
       "  'yhbatch -N 6 -n 36 -p TH_NET -J 332f RunVASP.5.4.1.sh'],\n",
       " ['cd /vol-th/home/Chgy/liyd/AuNT/armchair/33/3/9.31/opt_fine',\n",
       "  'yhbatch -N 6 -n 36 -p TH_NET -J 333f RunVASP.5.4.1.sh'],\n",
       " ['cd /vol-th/home/Chgy/liyd/AuNT/zigzag/20/1/5.49/phonon/disp-003',\n",
       "  'yhbatch -N 2 -n 24 -p TH_NET -J 003 RunVASP.5.4.1.sh'],\n",
       " ['cd /vol-th/home/Chgy/liyd/AuNT/zigzag/20/1/5.49/phonon/disp-004',\n",
       "  'yhbatch -N 2 -n 24 -p TH_NET -J 004 RunVASP.5.4.1.sh'],\n",
       " ['cd /vol-th/home/Chgy/liyd/AuNT/zigzag/20/1/5.49/phonon/disp-005',\n",
       "  'yhbatch -N 2 -n 24 -p TH_NET -J 005 RunVASP.5.4.1.sh'],\n",
       " ['cd /vol-th/home/Chgy/liyd/AuNT/zigzag/20/1/5.49/phonon/disp-006',\n",
       "  'yhbatch -N 2 -n 24 -p TH_NET -J 006 RunVASP.5.4.1.sh'],\n",
       " ['cd /vol-th/home/Chgy/liyd/AuNT/zigzag/20/1/5.49/phonon/disp-007',\n",
       "  'yhbatch -N 2 -n 24 -p TH_NET -J 007 RunVASP.5.4.1.sh'],\n",
       " ['cd /vol-th/home/Chgy/liyd/AuNT/zigzag/20/1/5.49/phonon/disp-008',\n",
       "  'yhbatch -N 2 -n 24 -p TH_NET -J 008 RunVASP.5.4.1.sh'],\n",
       " ['cd /vol-th/home/Chgy/liyd/AuNT/zigzag/20/1/5.49/phonon/disp-009',\n",
       "  'yhbatch -N 2 -n 24 -p TH_NET -J 009 RunVASP.5.4.1.sh'],\n",
       " ['cd /vol-th/home/Chgy/liyd/AuNT/zigzag/20/1/5.49/phonon/disp-010',\n",
       "  'yhbatch -N 2 -n 24 -p TH_NET -J 010 RunVASP.5.4.1.sh'],\n",
       " ['cd /vol-th/home/Chgy/liyd/AuNT/zigzag/20/1/5.49/phonon/disp-011',\n",
       "  'yhbatch -N 2 -n 24 -p TH_NET -J 011 RunVASP.5.4.1.sh'],\n",
       " ['cd /vol-th/home/Chgy/liyd/AuNT/zigzag/20/1/5.49/phonon/disp-012',\n",
       "  'yhbatch -N 2 -n 24 -p TH_NET -J 012 RunVASP.5.4.1.sh'],\n",
       " ['cd /vol-th/home/Chgy/liyd/AuNT/zigzag/20/1/5.49/phonon/disp-013',\n",
       "  'yhbatch -N 2 -n 24 -p TH_NET -J 013 RunVASP.5.4.1.sh'],\n",
       " ['cd /vol-th/home/Chgy/liyd/AuNT/zigzag/20/1/5.49/phonon/disp-014',\n",
       "  'yhbatch -N 2 -n 24 -p TH_NET -J 014 RunVASP.5.4.1.sh'],\n",
       " ['cd /vol-th/home/Chgy/liyd/AuNT/zigzag/20/1/5.49/phonon/disp-015',\n",
       "  'yhbatch -N 2 -n 24 -p TH_NET -J 015 RunVASP.5.4.1.sh'],\n",
       " ['cd /vol-th/home/Chgy/liyd/AuNT/zigzag/20/1/5.49/phonon/disp-016',\n",
       "  'yhbatch -N 2 -n 24 -p TH_NET -J 016 RunVASP.5.4.1.sh'],\n",
       " ['cd /vol-th/home/Chgy/liyd/AuNT/zigzag/20/1/5.49/phonon/disp-017',\n",
       "  'yhbatch -N 2 -n 24 -p TH_NET -J 017 RunVASP.5.4.1.sh'],\n",
       " ['cd /vol-th/home/Chgy/liyd/AuNT/zigzag/20/1/5.49/phonon/disp-018',\n",
       "  'yhbatch -N 2 -n 24 -p TH_NET -J 018 RunVASP.5.4.1.sh'],\n",
       " ['cd /vol-th/home/Chgy/liyd/AuNT/zigzag/20/1/5.49/phonon/disp-019',\n",
       "  'yhbatch -N 2 -n 24 -p TH_NET -J 019 RunVASP.5.4.1.sh'],\n",
       " ['cd /vol-th/home/Chgy/liyd/AuNT/zigzag/20/1/5.49/phonon/disp-020',\n",
       "  'yhbatch -N 2 -n 24 -p TH_NET -J 020 RunVASP.5.4.1.sh']]"
      ]
     },
     "execution_count": 58,
     "metadata": {},
     "output_type": "execute_result"
    }
   ],
   "source": [
    "phonon_root = '/vol-th/home/Chgy/liyd/AuNT/zigzag/20/1/5.49/phonon/'\n",
    "for i in range(3, 21):\n",
    "    job = ['cd '+phonon_root+'disp-%03d'%i, 'yhbatch -N 2 -n 24 -p TH_NET -J %03d RunVASP.5.4.1.sh'%i ]\n",
    "    my_jobs.append(job)\n",
    "my_jobs"
   ]
  },
  {
   "cell_type": "code",
   "execution_count": 55,
   "metadata": {
    "collapsed": false
   },
   "outputs": [
    {
     "data": {
      "text/plain": [
       "[['a', 'b'], ['a', 'b']]"
      ]
     },
     "execution_count": 55,
     "metadata": {},
     "output_type": "execute_result"
    }
   ],
   "source": [
    "my_jobs.append(['a', 'b'])\n",
    "my_jobs"
   ]
  },
  {
   "cell_type": "code",
   "execution_count": null,
   "metadata": {
    "collapsed": true
   },
   "outputs": [],
   "source": []
  }
 ],
 "metadata": {
  "kernelspec": {
   "display_name": "Python 2",
   "language": "python",
   "name": "python2"
  },
  "language_info": {
   "codemirror_mode": {
    "name": "ipython",
    "version": 2
   },
   "file_extension": ".py",
   "mimetype": "text/x-python",
   "name": "python",
   "nbconvert_exporter": "python",
   "pygments_lexer": "ipython2",
   "version": "2.7.9"
  }
 },
 "nbformat": 4,
 "nbformat_minor": 0
}
