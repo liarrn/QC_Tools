{
 "cells": [
  {
   "cell_type": "code",
   "execution_count": 2,
   "metadata": {
    "collapsed": true
   },
   "outputs": [],
   "source": [
    "import numpy as np\n",
    "from numpy import linalg as LA\n",
    "from itertools import islice\n",
    "import re\n",
    "from subprocess import call\n",
    "import math\n",
    "import copy\n",
    "import matplotlib.pyplot as plt\n",
    "%matplotlib inline"
   ]
  },
  {
   "cell_type": "code",
   "execution_count": 3,
   "metadata": {
    "collapsed": false
   },
   "outputs": [],
   "source": [
    "def ReadXYZe(xyzfile, natoms):\n",
    "    coor = np.array(np.zeros((1, natoms * 3)))\n",
    "    energy = np.array(0.0)\n",
    "    with open(xyzfile, 'r') as xyzp:\n",
    "        ln = -1\n",
    "        strcoor = ''\n",
    "        for line in xyzp:\n",
    "            ln = ln + 1\n",
    "            if (ln % (natoms + 2) == 0):\n",
    "                strcoor = ''\n",
    "                continue\n",
    "            elif (ln % (natoms + 2) == 1):\n",
    "                energy = np.append(energy, float(line.split()[-2]))\n",
    "                continue\n",
    "            elif (ln % (natoms + 2) == (natoms + 1)):\n",
    "                strcoor = strcoor + line[4: -1]\n",
    "                coor = np.concatenate((coor, np.array(np.matrix(strcoor).ravel().tolist())))\n",
    "                # print coor.shape\n",
    "                # print np.array(np.matrix(strcoor).ravel().tolist()).shape\n",
    "                # coor.append(np.matrix(strcoor).getT().ravel().tolist()[0])\n",
    "            else:\n",
    "                strcoor = strcoor + line[4: -1] + ';'\n",
    "    coor = coor[1:, :]\n",
    "    energy = energy[1:]\n",
    "    return coor, energy\n",
    "\n",
    "\n",
    "\n",
    "def ReadXYZ(xyzfile, natoms):\n",
    "    coor = np.array(np.zeros((1, natoms * 3)))\n",
    "    # energy = np.array(0.0)\n",
    "    with open(xyzfile, 'r') as xyzp:\n",
    "        ln = -1\n",
    "        strcoor = ''\n",
    "        for line in xyzp:\n",
    "            ln = ln + 1\n",
    "            if (ln % (natoms + 2) == 0):\n",
    "                strcoor = ''\n",
    "                continue\n",
    "            elif (ln % (natoms + 2) == 1):\n",
    "                # energy = np.append(energy, float(line.split()[4]))\n",
    "                continue\n",
    "            elif (ln % (natoms + 2) == (natoms + 1)):\n",
    "                strcoor = strcoor + line[4: -1]\n",
    "                coor = np.concatenate((coor, np.array(np.matrix(strcoor).ravel().tolist())))\n",
    "                # print coor.shape\n",
    "                # print np.array(np.matrix(strcoor).ravel().tolist()).shape\n",
    "                # coor.append(np.matrix(strcoor).getT().ravel().tolist()[0])\n",
    "            else:\n",
    "                strcoor = strcoor + line[4: -1] + ';'\n",
    "    coor = coor[1:, :]\n",
    "    # energy = energy[1:]\n",
    "    return coor\n",
    "\n",
    "\n",
    "def rephraseCoor(cluster):\n",
    "    # reprase a compressed cluster coordinates to a natoms*3 representations\n",
    "    natoms = cluster.size / 3\n",
    "    return cluster.reshape((natoms, 3))\n",
    "\n",
    "\n",
    "\n",
    "\n",
    "def CalcBondLength(coor1, coor2):\n",
    "    bondlength = math.sqrt(np.power(coor1 - coor2, 2).sum())\n",
    "    return bondlength\n",
    "\n",
    "\n",
    "def CalcCN(atnr, cluster, atomRange=-1, rdmax=3.2):\n",
    "    # the atom number, atnr, should start from 0\n",
    "    # return coornr, the coordination number\n",
    "    # nnatoms, array of nearest atoms\n",
    "    # nnatom, the nearest atom\n",
    "    # rdmax = 3.5\n",
    "    # rdmax = 2.96\n",
    "    coornr = 0  # the coordination number\n",
    "    nnatoms = np.array([])  # the first nearest atoms\n",
    "    nnatom = 0  # the nearest atom\n",
    "    nnbondlength = 100.0\n",
    "    natoms = cluster.shape[0]\n",
    "\n",
    "    if type(atomRange) == int and atomRange == -1:\n",
    "        atomRange = range(natoms)\n",
    "\n",
    "    for i in atomRange:\n",
    "        if i == atnr:\n",
    "            continue\n",
    "        bondlength = CalcBondLength(cluster[atnr, :], cluster[i, :])\n",
    "        if bondlength < rdmax:\n",
    "            coornr += 1\n",
    "            nnatoms = np.append(nnatoms, [int(i)])\n",
    "        if bondlength < nnbondlength:\n",
    "            nnbondlength = bondlength\n",
    "            nnatom = int(i)\n",
    "    nnatoms = map(lambda s: int(s), nnatoms)\n",
    "    nnatoms = np.array(nnatoms)\n",
    "    coornr = int(coornr)\n",
    "    return coornr, nnatoms, nnatom\n",
    "\n",
    "\n",
    "def bondSet(nnatoms, cluster):\n",
    "    natoms = nnatoms.size\n",
    "    rdmax = 3.2\n",
    "    # rdmax = 3.0\n",
    "    bondlength = 0.0\n",
    "    bonds = np.array([[0, 0]])\n",
    "    for i in range(natoms):\n",
    "        for j in range(i + 1, natoms):\n",
    "            bondlength = CalcBondLength(cluster[nnatoms[i], :], cluster[nnatoms[j], :])\n",
    "            if bondlength < rdmax:\n",
    "                bonds = np.concatenate((bonds, [[nnatoms[i], nnatoms[j]]]))\n",
    "    bonds = bonds[1:]\n",
    "    return bonds\n",
    "\n",
    "\n",
    "def CalcCA(atnr, cluster):\n",
    "    # Calculated the average cone angle constructed by atnr's surface nearest neighbours\n",
    "    # the nearest atom, and opposite bond are *** STRICTLY ON THE SURFACE *** !!!\n",
    "    # return ACA, averaged cone angle\n",
    "    surfatoms = getSurfAtoms(cluster)\n",
    "    coornr, nnatoms, nnatom = CalcCN(atnr, cluster, surfatoms, 3.4)\n",
    "    nnatoms = np.array(nnatoms)\n",
    "    ACA = 0.0  # averaged cone angle\n",
    "    for i in range(nnatoms.size):\n",
    "        nnatom = nnatoms[i]\n",
    "        tmpatoms = np.delete(nnatoms, np.argwhere(nnatoms == nnatom)[0, 0])\n",
    "        bonds = bondSet(tmpatoms, cluster)\n",
    "        # print bonds\n",
    "        CA = 0.0\n",
    "        CABond = np.array([0, 0])\n",
    "        l1 = cluster[nnatom, :] - cluster[atnr, :]\n",
    "        for i in range(bonds.shape[0]):\n",
    "            midpoint = (cluster[bonds[i, 0], :] + cluster[bonds[i, 1], :]) / 2\n",
    "            l2 = midpoint - cluster[atnr, :]\n",
    "            angle = math.acos(np.dot(l1, l2) / (LA.norm(l1) * LA.norm(l2))) / math.pi * 180\n",
    "            if angle > CA:\n",
    "                CA = angle\n",
    "                CABond = bonds[i, :]\n",
    "                # print 'surface atom: %d; nnatom: %d; Bond: %d, %d; angle: %.3f'\\\n",
    "                #     %(int(atnr+1), int(nnatom+1), int(bonds[i, 0]+1), int(bonds[i, 1]+1), angle)\n",
    "                # print l1, l2\n",
    "                # print '\\n'\n",
    "        for i in range(tmpatoms.size):\n",
    "            l2 = cluster[tmpatoms[i], :] - cluster[atnr, :]\n",
    "            angle = math.acos(np.dot(l1, l2) / (LA.norm(l1) * LA.norm(l2))) / math.pi * 180\n",
    "            if angle > CA:\n",
    "                CA = angle\n",
    "                CABond = np.array([tmpatoms[i], tmpatoms[i]])\n",
    "        ACA += CA\n",
    "        # print 'surface atom: %d; nnatom: %d; Bond: %d, %d; angle: %.3f'\\\n",
    "        #       % (int(atnr+1), int(nnatom+1), int(CABond[0]+1), int(CABond[1]+1), CA)\n",
    "    ACA /= nnatoms.size\n",
    "    return ACA\n",
    "\n",
    "\n",
    "def in_plane(coor):\n",
    "    criterion = 0.3\n",
    "    if coor.shape[0] <= 3:\n",
    "        return True\n",
    "    norm = np.cross(coor[1, :] - coor[0, :], coor[2, : ]- coor[0, :])\n",
    "    norm /= LA.norm(norm)\n",
    "    is_in_plane = True\n",
    "    for i in range(3, coor.shape[0]):\n",
    "        vec = coor[i, :] - coor[0, :]\n",
    "        vec /= LA.norm(vec)\n",
    "#         print np.dot(vec, norm)\n",
    "        if np.abs(np.dot(vec, norm)) > criterion:\n",
    "            is_in_plane = False\n",
    "            break\n",
    "    return is_in_plane\n",
    "\n",
    "\n",
    "\n",
    "def getSurfAtoms(cluster):\n",
    "    # return surface atoms, started with zero\n",
    "    criterion = 1.82\n",
    "    surfatoms = np.array([])\n",
    "    natoms = cluster.shape[0]\n",
    "    NormOfAccuXY = np.zeros(natoms)\n",
    "    for i in range(natoms):\n",
    "        coornr, nnatoms, tmp = CalcCN(i, cluster)\n",
    "        accuxy = np.zeros((1, 3))\n",
    "        for n in range(coornr):\n",
    "            xy = cluster[nnatoms[n], :] - cluster[i, :]\n",
    "            xy /= LA.norm(xy)\n",
    "            accuxy += xy\n",
    "        NormOfAccuXY[i] = LA.norm(accuxy)\n",
    "        if NormOfAccuXY[i] > criterion:\n",
    "            surfatoms = np.append(surfatoms, i)\n",
    "        else:\n",
    "            if in_plane(cluster[nnatoms]):\n",
    "                surfatoms = np.append(surfatoms, i)\n",
    "    surfatoms = map(lambda s: int(s), surfatoms)\n",
    "    surfatoms = np.array(surfatoms)\n",
    "    return surfatoms\n",
    "    # return NormOfAccuXY\n",
    "\n",
    "\n",
    "def CalcAd(atnr, cluster):\n",
    "    # Calculate the CO, O2 adsorption energy (COad, O2ad) for atnr\n",
    "    # return COad, O2ad\n",
    "    # atnr start from 0\n",
    "    cnmax = 12.0\n",
    "    COad = 0.0  # CO adsorption energy\n",
    "    O2ad = 0.0  # O2 adsorption energy\n",
    "    CNR = 0.0  # reduced CN\n",
    "    CAR = 0.0  # reduced CA\n",
    "    CAR = CalcCA(atnr, cluster)\n",
    "    CAR /= 180.0\n",
    "    CN, nnatoms, nnatom = CalcCN(atnr, cluster)\n",
    "    for i in range(nnatoms.size):\n",
    "        a, b, c = CalcCN(nnatoms[i], cluster)\n",
    "        CNR += a\n",
    "    CNR /= cnmax\n",
    "    if CNR < 3:\n",
    "        COad = 1.54 * CAR - 1.87\n",
    "        O2ad = 0.93 * CAR - 1.00\n",
    "    else:\n",
    "        COad = 0.17 * CNR - 1.57\n",
    "        O2ad = 0.2 * CNR - 1.2\n",
    "    # print 'atnr: %d; reduced CA: %.2f; reduced CN: %.2f'%(atnr+1, CAR, CNR)\n",
    "    return COad, O2ad"
   ]
  },
  {
   "cell_type": "code",
   "execution_count": 3,
   "metadata": {
    "collapsed": false
   },
   "outputs": [
    {
     "data": {
      "image/png": "[encoded data removed]",
      "text/plain": [
       "<matplotlib.figure.Figure at 0x75a89b0>"
      ]
     },
     "metadata": {},
     "output_type": "display_data"
    }
   ],
   "source": [
    "energyfile = np.loadtxt('./au20-bh-2/au20-energy.out', skiprows=1)\n",
    "plt.plot(range(energyfile.shape[0]), energyfile[: , 0], 'bx-', range(energyfile.shape[0]), energyfile[: , 1], 'rx-')\n",
    "plt.show()"
   ]
  },
  {
   "cell_type": "code",
   "execution_count": 25,
   "metadata": {
    "collapsed": false
   },
   "outputs": [],
   "source": [
    "def calc_coverage(Ead, temp, pressure):\n",
    "    # input Ead in eV, temp in Kelvin, pressure in Pa\n",
    "    delta_entropy = -197.66 / 1000 * 0.01036 # eV/K\n",
    "    boltzmannC = 8.61733E-5 # eV/K\n",
    "    ec = np.exp(-(Ead-temp*delta_entropy)/(boltzmannC*temp))\n",
    "    return ec*pressure/(1.0+ec*pressure)"
   ]
  },
  {
   "cell_type": "code",
   "execution_count": 99,
   "metadata": {
    "collapsed": false
   },
   "outputs": [
    {
     "data": {
      "image/png": "[encoded data removed]",
      "text/plain": [
       "<matplotlib.figure.Figure at 0x9d915f0>"
      ]
     },
     "metadata": {},
     "output_type": "display_data"
    }
   ],
   "source": [
    "natoms = 20\n",
    "temp = 400\n",
    "pressure = 100\n",
    "sample_size = 10000\n",
    "\n",
    "# Calculate the CO, O2 adsorption energy\n",
    "coors = ReadXYZ('./pyramid.xyz', natoms)\n",
    "coor = rephraseCoor(coors[0, :])\n",
    "surfatoms = getSurfAtoms(coor)\n",
    "COad = np.array([CalcAd(i, coor)[0] for i in surfatoms])\n",
    "coverage = np.array([calc_coverage(i, temp, pressure) for i in COad])\n",
    "\n",
    "# Ead = np.zeros(sample_size)\n",
    "# Ead = [0]*sample_size\n",
    "Ead = [0]\n",
    "for i in range(sample_size):\n",
    "    rn = np.random.rand(natoms)\n",
    "    is_adsorb = rn < coverage\n",
    "    is_adsorb = np.array([ 1 if i == True else 0 for i in is_adsorb])\n",
    "    #     Ead[i] = sum(is_adsorb * COad)\n",
    "    Ead.append(sum(is_adsorb * COad))\n",
    "    #     print sum(is_adsorb * COad), Ead[i]\n",
    "# print Ead[1: ]\n",
    "Ead = Ead[1: ]\n",
    "plt.hist(Ead, bins=10)\n",
    "plt.show()\n",
    "\n",
    "# print COad\n",
    "# for i in range(surfatoms.size):\n",
    "#     COad, O2ad = CalcAd(surfatoms[i], coor)\n",
    "#     print 'atom id: %d; CO Ead: %.3f eV'%(int(surfatoms[i]+1), COad)"
   ]
  },
  {
   "cell_type": "code",
   "execution_count": 158,
   "metadata": {
    "collapsed": false
   },
   "outputs": [
    {
     "data": {
      "image/png": "[encoded data removed]",
      "text/plain": [
       "<matplotlib.figure.Figure at 0xa536210>"
      ]
     },
     "metadata": {},
     "output_type": "display_data"
    },
    {
     "data": {
      "image/png": "[encoded data removed]",
      "text/plain": [
       "<matplotlib.figure.Figure at 0xb46be10>"
      ]
     },
     "metadata": {},
     "output_type": "display_data"
    }
   ],
   "source": [
    "coors, energys = ReadXYZe('./au20-xyz.xyz', 20)\n",
    "plt.plot(energys , 'x-')\n",
    "plt.show()\n",
    "plt.hist(energys, bins=20)\n",
    "plt.show()"
   ]
  },
  {
   "cell_type": "code",
   "execution_count": 152,
   "metadata": {
    "collapsed": true
   },
   "outputs": [],
   "source": [
    "def unique_energy(energy, criterion = 0.05):\n",
    "    unique = []\n",
    "    for i in range(len(energy)):\n",
    "        is_unique = True\n",
    "        for j in range(len(unique)):\n",
    "#             print np.abs(energy[i] - energy[unique[j]])\n",
    "            if np.abs(energy[i] - energy[unique[j]]) < criterion:\n",
    "#                 print np.abs(energy[i] - unique[j])\n",
    "                is_unique = False\n",
    "                break\n",
    "        if is_unique == True:\n",
    "            unique.append(i)\n",
    "    return np.array(unique)"
   ]
  },
  {
   "cell_type": "code",
   "execution_count": 246,
   "metadata": {
    "collapsed": true
   },
   "outputs": [],
   "source": [
    "def SampleEad(coor, sample_size):\n",
    "    # return list of  adsorption energy\n",
    "    surfatoms = getSurfAtoms(coor)\n",
    "    COad = np.array([CalcAd(i, coor)[0] for i in surfatoms])\n",
    "    coverage = np.array([calc_coverage(i, temp, pressure) for i in COad])\n",
    "    Ead = [0]\n",
    "#     print surfatoms.shape[0], surfatoms+1\n",
    "    for i in range(sample_size):\n",
    "        rn = np.random.rand(surfatoms.shape[0])\n",
    "        is_adsorb = rn < coverage\n",
    "        is_adsorb = np.array([ 1 if i == True else 0 for i in is_adsorb])\n",
    "        Ead.append(sum(is_adsorb * COad))\n",
    "    Ead = Ead[1: ]\n",
    "    return Ead\n",
    "        "
   ]
  },
  {
   "cell_type": "code",
   "execution_count": 247,
   "metadata": {
    "collapsed": false
   },
   "outputs": [],
   "source": [
    "natoms = 20\n",
    "temp = 400\n",
    "pressure = 100\n",
    "sample_size = 10000\n",
    "\n",
    "coors, energys = ReadXYZe('./au20-xyz.xyz', 20)\n",
    "unique_clusters = unique_energy(energys)\n",
    "total_energy = []\n",
    "for nc in unique_clusters:\n",
    "    coor = rephraseCoor(coors[nc, :])\n",
    "    total_energy.append(energys[nc] + SampleEad(coor, sample_size))\n",
    "total_energy = np.array(total_energy)"
   ]
  },
  {
   "cell_type": "code",
   "execution_count": 286,
   "metadata": {
    "collapsed": false
   },
   "outputs": [
    {
     "name": "stdout",
     "output_type": "stream",
     "text": [
      "[-0.91432629 -0.96083333 -0.975      -0.975      -0.87480581 -0.87003652\n",
      " -0.91905864 -1.00333333 -0.90672455 -0.975      -0.975      -0.90941861\n",
      " -0.87456341 -0.85192636 -1.07828225 -1.06       -0.975      -1.096276\n",
      " -0.975     ]\n",
      "[ 0.99936909  0.99983624  0.99989142  0.99989142  0.99801704  0.99772345\n",
      "  0.99944998  0.99995227  0.99921354  0.99989142  0.99989142  0.99927263\n",
      "  0.99800308  0.9961561   0.99999457  0.99999078  0.99989142  0.99999678\n",
      "  0.99989142]\n"
     ]
    }
   ],
   "source": [
    "coor = rephraseCoor(coors[1, :])\n",
    "surfatoms = getSurfAtoms(coor)\n",
    "COad = np.array([CalcAd(i, coor)[0] for i in surfatoms])\n",
    "coverage = np.array([calc_coverage(i, temp, pressure) for i in COad])\n",
    "print COad\n",
    "print coverage"
   ]
  },
  {
   "cell_type": "code",
   "execution_count": 284,
   "metadata": {
    "collapsed": false
   },
   "outputs": [
    {
     "data": {
      "image/png": "[encoded data removed]",
      "text/plain": [
       "<matplotlib.figure.Figure at 0xc637910>"
      ]
     },
     "metadata": {},
     "output_type": "display_data"
    }
   ],
   "source": [
    "for i in range(total_energy.shape[0]-1):\n",
    "    plt.hist(total_energy[i], color='b')\n",
    "#     plt.hold()\n",
    "plt.hist(total_energy[-1], color='r')\n",
    "plt.show()\n",
    "# plt.hold()\n",
    "# plt.hist(total_energy[-1], color='r')"
   ]
  },
  {
   "cell_type": "code",
   "execution_count": null,
   "metadata": {
    "collapsed": false
   },
   "outputs": [],
   "source": []
  },
  {
   "cell_type": "code",
   "execution_count": 1,
   "metadata": {
    "collapsed": false
   },
   "outputs": [
    {
     "data": {
      "text/plain": [
       "4173"
      ]
     },
     "execution_count": 1,
     "metadata": {},
     "output_type": "execute_result"
    }
   ],
   "source": [
    "91806/22"
   ]
  },
  {
   "cell_type": "code",
   "execution_count": 4,
   "metadata": {
    "collapsed": false
   },
   "outputs": [],
   "source": [
    "def calc_CO_tot(coor):\n",
    "    surfatoms = getSurfAtoms(coor)\n",
    "    COad = np.array([CalcAd(i, coor)[0] for i in surfatoms])\n",
    "    return sum(COad)\n",
    "        \n",
    "        \n",
    "        \n",
    "        \n",
    "def basin_hopping_dmol3(xyzfilename, calc_params, mc_params, move_params):\n",
    "    calculator = 'dmol3'\n",
    "    temp = mc_params['temp']\n",
    "    num_steps = mc_params['num_steps']\n",
    "    project_name = calc_params['project_name']\n",
    "    natoms = calc_params['natoms']\n",
    "    xyz_out = project_name+'-xyz.xyz'\n",
    "    energy_outfile_name = project_name+'-energy.out'\n",
    "    \n",
    "    with open(xyzfilename, 'r') as xyzfp:\n",
    "        xyz = readxyzfile(xyzfp, natoms)\n",
    "    curr_elems, curr_coor = xyz2coor(xyz[0])\n",
    "    curr_energy, curr_elems, curr_coor, curr_force = call_dmol3(calc_params, curr_elems, curr_coor)\n",
    "    curr_adsorbed_energy = curr_energy + calc_CO_tot(curr_coor)\n",
    "    \n",
    "    writexyz(xyz_out, 'w', curr_elems, curr_coor, '1th %.9f eV'%curr_energy)\n",
    "    writeline(energy_outfile_name, 'w', 'current_energy(eV)    next_energy(eV)    current_adsorbed_energy(eV)    next_adsorbed_energy(eV)\\n')\n",
    "    writeline(energy_outfile_name, 'a', '%.9f    %.9f    %.9f    %.9f\\n'%(curr_energy, curr_energy, curr_adsorbed_energy, curr_adsorbed_energy))\n",
    "    \n",
    "    for i in range(num_steps):\n",
    "        next_coor = move_cluster(curr_coor, move_params)\n",
    "        next_elems = copy.copy(curr_elems)\n",
    "        next_energy, next_elems, next_coor, next_force = call_dmol3(calc_params, next_elems, next_coor)\n",
    "        \n",
    "        # if scf run is not sucessful, continue to next iteration\n",
    "        if next_energy == -1:\n",
    "            continue\n",
    "        next_adsorbed_energy = next_energy + calc_CO_tot(next_coor)\n",
    "        writexyz(xyz_out, 'a', next_elems, next_coor, '%dth %.9f eV'%(i+2, next_energy))\n",
    "        writeline(energy_outfile_name, 'a', '%.9f    %.9f    %.9f    %.9f\\n'%(curr_energy, next_energy, curr_adsorbed_energy, next_adsorbed_energy))\n",
    "        \n",
    "        is_move = False\n",
    "        if next_adsorbed_energy<= curr_adsorbed_energy:\n",
    "            is_move = True\n",
    "        else:\n",
    "            bf = BoltzmannFactor(next_adsorbed_energy, curr_adsorbed_energy, temp, 'ev')\n",
    "            rn = np.random.rand()\n",
    "            if rn < bf:\n",
    "                is_move = True\n",
    "        if is_move == True:\n",
    "            curr_energy = next_energy\n",
    "            curr_adsorbed_energy = next_adsorbed_energy\n",
    "            curr_coor = next_coor\n",
    "            curr_elems = next_elems\n",
    "\n",
    "def basin_hopping(xyzfilename, calc_params, mc_params, move_params):\n",
    "    if calc_params['calculator'] == 'dmol3':\n",
    "        basin_hopping_dmol3(xyzfilename, calc_params, mc_params, move_params)        "
   ]
  },
  {
   "cell_type": "code",
   "execution_count": null,
   "metadata": {
    "collapsed": false
   },
   "outputs": [],
   "source": []
  },
  {
   "cell_type": "code",
   "execution_count": 6,
   "metadata": {
    "collapsed": false
   },
   "outputs": [],
   "source": []
  },
  {
   "cell_type": "code",
   "execution_count": 12,
   "metadata": {
    "collapsed": false
   },
   "outputs": [],
   "source": []
  },
  {
   "cell_type": "code",
   "execution_count": 13,
   "metadata": {
    "collapsed": false
   },
   "outputs": [
    {
     "ename": "ZeroDivisionError",
     "evalue": "float division by zero",
     "output_type": "error",
     "traceback": [
      "\u001b[1;31m---------------------------------------------------------------------------\u001b[0m",
      "\u001b[1;31mZeroDivisionError\u001b[0m                         Traceback (most recent call last)",
      "\u001b[1;32m<ipython-input-13-c86e71355972>\u001b[0m in \u001b[0;36m<module>\u001b[1;34m()\u001b[0m\n\u001b[1;32m----> 1\u001b[1;33m \u001b[0mcalc_CO_tot\u001b[0m\u001b[1;33m(\u001b[0m\u001b[0mcoor\u001b[0m\u001b[1;33m)\u001b[0m\u001b[1;33m\u001b[0m\u001b[0m\n\u001b[0m",
      "\u001b[1;32m<ipython-input-4-a210884b6b55>\u001b[0m in \u001b[0;36mcalc_CO_tot\u001b[1;34m(coor)\u001b[0m\n\u001b[0;32m      1\u001b[0m \u001b[1;32mdef\u001b[0m \u001b[0mcalc_CO_tot\u001b[0m\u001b[1;33m(\u001b[0m\u001b[0mcoor\u001b[0m\u001b[1;33m)\u001b[0m\u001b[1;33m:\u001b[0m\u001b[1;33m\u001b[0m\u001b[0m\n\u001b[0;32m      2\u001b[0m     \u001b[0msurfatoms\u001b[0m \u001b[1;33m=\u001b[0m \u001b[0mgetSurfAtoms\u001b[0m\u001b[1;33m(\u001b[0m\u001b[0mcoor\u001b[0m\u001b[1;33m)\u001b[0m\u001b[1;33m\u001b[0m\u001b[0m\n\u001b[1;32m----> 3\u001b[1;33m     \u001b[0mCOad\u001b[0m \u001b[1;33m=\u001b[0m \u001b[0mnp\u001b[0m\u001b[1;33m.\u001b[0m\u001b[0marray\u001b[0m\u001b[1;33m(\u001b[0m\u001b[1;33m[\u001b[0m\u001b[0mCalcAd\u001b[0m\u001b[1;33m(\u001b[0m\u001b[0mi\u001b[0m\u001b[1;33m,\u001b[0m \u001b[0mcoor\u001b[0m\u001b[1;33m)\u001b[0m\u001b[1;33m[\u001b[0m\u001b[1;36m0\u001b[0m\u001b[1;33m]\u001b[0m \u001b[1;32mfor\u001b[0m \u001b[0mi\u001b[0m \u001b[1;32min\u001b[0m \u001b[0msurfatoms\u001b[0m\u001b[1;33m]\u001b[0m\u001b[1;33m)\u001b[0m\u001b[1;33m\u001b[0m\u001b[0m\n\u001b[0m\u001b[0;32m      4\u001b[0m     \u001b[1;32mreturn\u001b[0m \u001b[0msum\u001b[0m\u001b[1;33m(\u001b[0m\u001b[0mCOad\u001b[0m\u001b[1;33m)\u001b[0m\u001b[1;33m\u001b[0m\u001b[0m\n\u001b[0;32m      5\u001b[0m \u001b[1;33m\u001b[0m\u001b[0m\n",
      "\u001b[1;32m<ipython-input-3-3ce4e5295ea5>\u001b[0m in \u001b[0;36mCalcAd\u001b[1;34m(atnr, cluster)\u001b[0m\n\u001b[0;32m    206\u001b[0m     \u001b[0mCNR\u001b[0m \u001b[1;33m=\u001b[0m \u001b[1;36m0.0\u001b[0m  \u001b[1;31m# reduced CN\u001b[0m\u001b[1;33m\u001b[0m\u001b[0m\n\u001b[0;32m    207\u001b[0m     \u001b[0mCAR\u001b[0m \u001b[1;33m=\u001b[0m \u001b[1;36m0.0\u001b[0m  \u001b[1;31m# reduced CA\u001b[0m\u001b[1;33m\u001b[0m\u001b[0m\n\u001b[1;32m--> 208\u001b[1;33m     \u001b[0mCAR\u001b[0m \u001b[1;33m=\u001b[0m \u001b[0mCalcCA\u001b[0m\u001b[1;33m(\u001b[0m\u001b[0matnr\u001b[0m\u001b[1;33m,\u001b[0m \u001b[0mcluster\u001b[0m\u001b[1;33m)\u001b[0m\u001b[1;33m\u001b[0m\u001b[0m\n\u001b[0m\u001b[0;32m    209\u001b[0m     \u001b[0mCAR\u001b[0m \u001b[1;33m/=\u001b[0m \u001b[1;36m180.0\u001b[0m\u001b[1;33m\u001b[0m\u001b[0m\n\u001b[0;32m    210\u001b[0m     \u001b[0mCN\u001b[0m\u001b[1;33m,\u001b[0m \u001b[0mnnatoms\u001b[0m\u001b[1;33m,\u001b[0m \u001b[0mnnatom\u001b[0m \u001b[1;33m=\u001b[0m \u001b[0mCalcCN\u001b[0m\u001b[1;33m(\u001b[0m\u001b[0matnr\u001b[0m\u001b[1;33m,\u001b[0m \u001b[0mcluster\u001b[0m\u001b[1;33m)\u001b[0m\u001b[1;33m\u001b[0m\u001b[0m\n",
      "\u001b[1;32m<ipython-input-3-3ce4e5295ea5>\u001b[0m in \u001b[0;36mCalcCA\u001b[1;34m(atnr, cluster)\u001b[0m\n\u001b[0;32m    150\u001b[0m         \u001b[1;31m# print 'surface atom: %d; nnatom: %d; Bond: %d, %d; angle: %.3f'\\\u001b[0m\u001b[1;33m\u001b[0m\u001b[1;33m\u001b[0m\u001b[0m\n\u001b[0;32m    151\u001b[0m         \u001b[1;31m#       % (int(atnr+1), int(nnatom+1), int(CABond[0]+1), int(CABond[1]+1), CA)\u001b[0m\u001b[1;33m\u001b[0m\u001b[1;33m\u001b[0m\u001b[0m\n\u001b[1;32m--> 152\u001b[1;33m     \u001b[0mACA\u001b[0m \u001b[1;33m/=\u001b[0m \u001b[0mnnatoms\u001b[0m\u001b[1;33m.\u001b[0m\u001b[0msize\u001b[0m\u001b[1;33m\u001b[0m\u001b[0m\n\u001b[0m\u001b[0;32m    153\u001b[0m     \u001b[1;32mreturn\u001b[0m \u001b[0mACA\u001b[0m\u001b[1;33m\u001b[0m\u001b[0m\n\u001b[0;32m    154\u001b[0m \u001b[1;33m\u001b[0m\u001b[0m\n",
      "\u001b[1;31mZeroDivisionError\u001b[0m: float division by zero"
     ]
    }
   ],
   "source": [
    "calc_CO_tot(coor)"
   ]
  },
  {
   "cell_type": "code",
   "execution_count": 26,
   "metadata": {
    "collapsed": false
   },
   "outputs": [
    {
     "name": "stdout",
     "output_type": "stream",
     "text": [
      "1 5\n",
      "2 4\n",
      "3 4\n",
      "5 3\n",
      "6 2\n",
      "7 5\n",
      "8 0\n",
      "9 4\n",
      "12 2\n",
      "13 6\n",
      "14 6\n",
      "15 0\n",
      "16 7\n",
      "17 4\n"
     ]
    }
   ],
   "source": [
    "def CalcCN(atnr, cluster, atomRange=-1, rdmax=3.2):\n",
    "    # the atom number, atnr, should start from 0\n",
    "    # return coornr, the coordination number\n",
    "    # nnatoms, array of nearest atoms\n",
    "    # nnatom, the nearest atom\n",
    "    # rdmax = 3.5\n",
    "    # rdmax = 2.96\n",
    "    coornr = 0  # the coordination number\n",
    "    nnatoms = np.array([])  # the first nearest atoms\n",
    "    nnatom = 0  # the nearest atom\n",
    "    nnbondlength = 100.0\n",
    "    natoms = cluster.shape[0]\n",
    "\n",
    "    if type(atomRange) == int and atomRange == -1:\n",
    "        atomRange = range(natoms)\n",
    "\n",
    "    for i in atomRange:\n",
    "        if i == atnr:\n",
    "            continue\n",
    "        bondlength = CalcBondLength(cluster[atnr, :], cluster[i, :])\n",
    "        if bondlength < rdmax:\n",
    "            coornr += 1\n",
    "            nnatoms = np.append(nnatoms, [int(i)])\n",
    "        if bondlength < nnbondlength:\n",
    "            nnbondlength = bondlength\n",
    "            nnatom = int(i)\n",
    "    nnatoms = map(lambda s: int(s), nnatoms)\n",
    "    nnatoms = np.array(nnatoms)\n",
    "    coornr = int(coornr)\n",
    "    return coornr, nnatoms, nnatom\n",
    "\n",
    "\n",
    "coors = ReadXYZ('./au18.xyz', 18)\n",
    "coor = rephraseCoor(coors[0])\n",
    "surfatoms = getSurfAtoms(coor)\n",
    "for i in surfatoms:\n",
    "    coornr, nnatoms, nnatom = CalcCN(i, coor, surfatoms, 3.4) \n",
    "    print i+1, coornr\n",
    "#     print coornr, nnatoms+1, nnatom\n",
    "coornr, nnatoms, nnatom = CalcCN(7, coor, surfatoms, 3.4) "
   ]
  },
  {
   "cell_type": "code",
   "execution_count": 24,
   "metadata": {
    "collapsed": false
   },
   "outputs": [
    {
     "name": "stdout",
     "output_type": "stream",
     "text": [
      "[ 1  2  3  5  6  7  8  9 12 13 14 15 16 17]\n"
     ]
    }
   ],
   "source": [
    "print surfatoms+1"
   ]
  },
  {
   "cell_type": "code",
   "execution_count": null,
   "metadata": {
    "collapsed": true
   },
   "outputs": [],
   "source": []
  },
  {
   "cell_type": "code",
   "execution_count": null,
   "metadata": {
    "collapsed": true
   },
   "outputs": [],
   "source": []
  },
  {
   "cell_type": "code",
   "execution_count": null,
   "metadata": {
    "collapsed": true
   },
   "outputs": [],
   "source": []
  },
  {
   "cell_type": "code",
   "execution_count": null,
   "metadata": {
    "collapsed": true
   },
   "outputs": [],
   "source": []
  },
  {
   "cell_type": "code",
   "execution_count": null,
   "metadata": {
    "collapsed": true
   },
   "outputs": [],
   "source": []
  },
  {
   "cell_type": "code",
   "execution_count": null,
   "metadata": {
    "collapsed": true
   },
   "outputs": [],
   "source": []
  },
  {
   "cell_type": "code",
   "execution_count": 21,
   "metadata": {
    "collapsed": false
   },
   "outputs": [
    {
     "name": "stdout",
     "output_type": "stream",
     "text": [
      "1 158.770766333\n",
      "5 110.474508096\n",
      "6 158.770766333\n",
      "9 162.463888785\n",
      "10 116.351842031\n",
      "11 113.187462218\n",
      "16 162.463888785\n"
     ]
    },
    {
     "data": {
      "text/plain": [
       "140.35473179728965"
      ]
     },
     "execution_count": 21,
     "metadata": {},
     "output_type": "execute_result"
    }
   ],
   "source": [
    "def getSurfAtoms(cluster):\n",
    "    return range(cluster.shape[0])\n",
    "\n",
    "def CalcCA(atnr, cluster):\n",
    "    # Calculated the average cone angle constructed by atnr's surface nearest neighbours\n",
    "    # the nearest atom, and opposite bond are *** STRICTLY ON THE SURFACE *** !!!\n",
    "    # return ACA, averaged cone angle\n",
    "    surfatoms = getSurfAtoms(cluster)\n",
    "    coornr, nnatoms, nnatom = CalcCN(atnr, cluster, surfatoms, 3.4)\n",
    "    nnatoms = np.array(nnatoms)\n",
    "    ACA = 0.0  # averaged cone angle\n",
    "    for i in range(nnatoms.size):\n",
    "        nnatom = nnatoms[i]\n",
    "        tmpatoms = np.delete(nnatoms, np.argwhere(nnatoms == nnatom)[0, 0])\n",
    "        bonds = bondSet(tmpatoms, cluster)\n",
    "        # print bonds\n",
    "        CA = 0.0\n",
    "        CABond = np.array([0, 0])\n",
    "        l1 = cluster[nnatom, :] - cluster[atnr, :]\n",
    "        for i in range(bonds.shape[0]):\n",
    "            midpoint = (cluster[bonds[i, 0], :] + cluster[bonds[i, 1], :]) / 2\n",
    "            l2 = midpoint - cluster[atnr, :]\n",
    "            angle = math.acos(np.dot(l1, l2) / (LA.norm(l1) * LA.norm(l2))) / math.pi * 180\n",
    "            if angle > CA:\n",
    "                CA = angle\n",
    "                CABond = bonds[i, :]\n",
    "                # print 'surface atom: %d; nnatom: %d; Bond: %d, %d; angle: %.3f'\\\n",
    "                #     %(int(atnr+1), int(nnatom+1), int(bonds[i, 0]+1), int(bonds[i, 1]+1), angle)\n",
    "                # print l1, l2\n",
    "                # print '\\n'\n",
    "        for i in range(tmpatoms.size):\n",
    "            l2 = cluster[tmpatoms[i], :] - cluster[atnr, :]\n",
    "            angle = math.acos(np.dot(l1, l2) / (LA.norm(l1) * LA.norm(l2))) / math.pi * 180\n",
    "            if angle > CA:\n",
    "                CA = angle\n",
    "                CABond = np.array([tmpatoms[i], tmpatoms[i]])\n",
    "        print nnatom+1, CA\n",
    "        ACA += CA\n",
    "        # print 'surface atom: %d; nnatom: %d; Bond: %d, %d; angle: %.3f'\\\n",
    "        #       % (int(atnr+1), int(nnatom+1), int(CABond[0]+1), int(CABond[1]+1), CA)\n",
    "    ACA /= nnatoms.size\n",
    "    return ACA\n",
    "\n",
    "\n",
    "\n",
    "def CalcAd(atnr, cluster):\n",
    "    # Calculate the CO, O2 adsorption energy (COad, O2ad) for atnr\n",
    "    # return COad, O2ad\n",
    "    # atnr start from 0\n",
    "    cnmax = 12.0\n",
    "    COad = 0.0  # CO adsorption energy\n",
    "    O2ad = 0.0  # O2 adsorption energy\n",
    "    CNR = 0.0  # reduced CN\n",
    "    CAR = 0.0  # reduced CA\n",
    "    CAR = CalcCA(atnr, cluster)\n",
    "    CAR /= 180.0\n",
    "    CN, nnatoms, nnatom = CalcCN(atnr, cluster)\n",
    "    for i in range(nnatoms.size):\n",
    "        a, b, c = CalcCN(nnatoms[i], cluster)\n",
    "        CNR += a\n",
    "    CNR /= cnmax\n",
    "    if CNR < 3:\n",
    "        COad = 1.54 * CAR - 1.87\n",
    "        O2ad = 0.93 * CAR - 1.00\n",
    "    else:\n",
    "        COad = 0.17 * CNR - 1.57\n",
    "        O2ad = 0.2 * CNR - 1.2\n",
    "    # print 'atnr: %d; reduced CA: %.2f; reduced CN: %.2f'%(atnr+1, CAR, CNR)\n",
    "    print 'atnr: %d\\tCN: %.3f\\tCA: %.3f\\tCOad: %.3f'%(atnr+1, CNR, CAR*180, COad)\n",
    "    return COad, O2ad\n",
    "\n",
    "coor = ReadXYZ('au18-anion.xyz', 18)\n",
    "coor = rephraseCoor(coor[0])\n",
    "# for i in range(18):\n",
    "    #     CalcAd(i, coor)\n",
    "CalcCA(3, coor)"
   ]
  },
  {
   "cell_type": "code",
   "execution_count": null,
   "metadata": {
    "collapsed": true
   },
   "outputs": [],
   "source": []
  },
  {
   "cell_type": "code",
   "execution_count": null,
   "metadata": {
    "collapsed": true
   },
   "outputs": [],
   "source": []
  },
  {
   "cell_type": "code",
   "execution_count": null,
   "metadata": {
    "collapsed": true
   },
   "outputs": [],
   "source": []
  },
  {
   "cell_type": "code",
   "execution_count": null,
   "metadata": {
    "collapsed": true
   },
   "outputs": [],
   "source": []
  }
 ],
 "metadata": {
  "kernelspec": {
   "display_name": "Python 2",
   "language": "python",
   "name": "python2"
  },
  "language_info": {
   "codemirror_mode": {
    "name": "ipython",
    "version": 2
   },
   "file_extension": ".py",
   "mimetype": "text/x-python",
   "name": "python",
   "nbconvert_exporter": "python",
   "pygments_lexer": "ipython2",
   "version": "2.7.9"
  }
 },
 "nbformat": 4,
 "nbformat_minor": 0
}
