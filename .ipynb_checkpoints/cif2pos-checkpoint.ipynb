{
 "cells": [
  {
   "cell_type": "code",
   "execution_count": 145,
   "metadata": {
    "collapsed": true
   },
   "outputs": [],
   "source": [
    "import numpy as np\n",
    "import pandas as pd\n",
    "import re"
   ]
  },
  {
   "cell_type": "code",
   "execution_count": 146,
   "metadata": {
    "collapsed": false
   },
   "outputs": [],
   "source": [
    "filename = '00.cif'\n",
    "title = 'test'\n",
    "fp = open(filename, 'r')\n",
    "cif = fp.readlines()\n",
    "fp.close()"
   ]
  },
  {
   "cell_type": "code",
   "execution_count": 154,
   "metadata": {
    "collapsed": false
   },
   "outputs": [],
   "source": [
    "lattice_param = {}\n",
    "for line in cif:\n",
    "    if line.strip() == '':\n",
    "        continue\n",
    "    if line.strip().split()[0] == '_cell_length_a':\n",
    "        lattice_param['_cell_length_a'] = float(line.strip().split()[1])\n",
    "        continue\n",
    "    if line.strip().split()[0] == '_cell_length_b':\n",
    "        lattice_param['_cell_length_b'] = float(line.strip().split()[1])\n",
    "        continue\n",
    "    if line.strip().split()[0] == '_cell_length_c':\n",
    "        lattice_param['_cell_length_c'] = float(line.strip().split()[1])\n",
    "        continue"
   ]
  },
  {
   "cell_type": "code",
   "execution_count": 147,
   "metadata": {
    "collapsed": false
   },
   "outputs": [],
   "source": [
    "pos_loop_start = 0\n",
    "pos_start = 0\n",
    "\n",
    "for i, line in enumerate(cif):\n",
    "    if line.strip() == 'loop_' and cif[i+1].strip() == '_atom_site_label':\n",
    "        pos_loop_start = i\n",
    "        break\n",
    "        \n",
    "line = cif[pos_loop_start+1]\n",
    "i = pos_loop_start + 1\n",
    "des = {}\n",
    "while(line.strip()[:5] == '_atom'):\n",
    "    des[line.strip()] = i-pos_loop_start - 1\n",
    "    i = i + 1\n",
    "    line = cif[i]\n",
    "\n",
    "pos_start = i"
   ]
  },
  {
   "cell_type": "code",
   "execution_count": 167,
   "metadata": {
    "collapsed": false
   },
   "outputs": [],
   "source": [
    "line = cif[pos_start]\n",
    "i = 0\n",
    "pos = {}\n",
    "while(line.strip() != ''):\n",
    "    line_split = line.strip().split()\n",
    "    elem = re.match(r\"([a-zA-Z]+?)\\d+\", line_split[des['_atom_site_label']]).group(1)\n",
    "    xyz = [[float(line_split[des['_atom_site_fract_x']]), float(line_split[des['_atom_site_fract_y']]), float(line_split[des['_atom_site_fract_z']])]]\n",
    "    if elem in pos:\n",
    "        pos[elem] = np.concatenate((pos[elem], xyz), axis=0)\n",
    "    else:\n",
    "        pos[elem] = np.array(xyz)\n",
    "    i = i + 1\n",
    "    if (pos_start+i) >= len(cif):\n",
    "        break\n",
    "    line = cif[pos_start + i]\n"
   ]
  },
  {
   "cell_type": "code",
   "execution_count": 172,
   "metadata": {
    "collapsed": false
   },
   "outputs": [],
   "source": [
    "elems = pos.keys()\n",
    "elems_string = '        '\n",
    "elems_count_string = '        '\n",
    "for elem in elems:\n",
    "    elems_string += elem\n",
    "    elems_string += '    '\n",
    "    elems_count_string += str(pos[elem].shape[0])\n",
    "    elems_count_string += '    '\n"
   ]
  },
  {
   "cell_type": "code",
   "execution_count": 176,
   "metadata": {
    "collapsed": false
   },
   "outputs": [],
   "source": [
    "fp = open('POSCAR', 'w')\n",
    "fp.write(title.strip()+'\\n')\n",
    "fp.write('%.8f\\n'%1.0)\n",
    "fp.write('        %.8f    %.8f    %.8f\\n'%(lattice_param['_cell_length_a'], 0.0, 0.0))\n",
    "fp.write('        %.8f    %.8f    %.8f\\n'%(0.0, lattice_param['_cell_length_b'], 0.0))\n",
    "fp.write('        %.8f    %.8f    %.8f\\n'%(0.0, 0.0, lattice_param['_cell_length_c']))\n",
    "fp.write(elems_string+'\\n')\n",
    "fp.write(elems_count_string+'\\n')\n",
    "fp.write('Direct\\n')\n",
    "for elem in elems:\n",
    "    for i in range(pos[elem].shape[0]):\n",
    "        fp.write('        %.8f    %.8f    %.8f\\n'%(pos[elem][i][0], pos[elem][i][1], pos[elem][i][2]))\n",
    "fp.close()"
   ]
  },
  {
   "cell_type": "code",
   "execution_count": 143,
   "metadata": {
    "collapsed": false
   },
   "outputs": [],
   "source": []
  },
  {
   "cell_type": "code",
   "execution_count": null,
   "metadata": {
    "collapsed": true
   },
   "outputs": [],
   "source": []
  },
  {
   "cell_type": "code",
   "execution_count": 158,
   "metadata": {
    "collapsed": false
   },
   "outputs": [
    {
     "data": {
      "text/plain": [
       "'O'"
      ]
     },
     "execution_count": 158,
     "metadata": {},
     "output_type": "execute_result"
    }
   ],
   "source": []
  },
  {
   "cell_type": "code",
   "execution_count": null,
   "metadata": {
    "collapsed": true
   },
   "outputs": [],
   "source": []
  }
 ],
 "metadata": {
  "kernelspec": {
   "display_name": "Python 2",
   "language": "python",
   "name": "python2"
  },
  "language_info": {
   "codemirror_mode": {
    "name": "ipython",
    "version": 2
   },
   "file_extension": ".py",
   "mimetype": "text/x-python",
   "name": "python",
   "nbconvert_exporter": "python",
   "pygments_lexer": "ipython2",
   "version": "2.7.9"
  }
 },
 "nbformat": 4,
 "nbformat_minor": 0
}
