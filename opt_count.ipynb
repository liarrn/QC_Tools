{
 "cells": [
  {
   "cell_type": "code",
   "execution_count": 1,
   "metadata": {
    "collapsed": true
   },
   "outputs": [],
   "source": [
    "import os\n",
    "import re\n",
    "import numpy as np\n",
    "import matplotlib.pyplot as plt"
   ]
  },
  {
   "cell_type": "code",
   "execution_count": null,
   "metadata": {
    "collapsed": true
   },
   "outputs": [],
   "source": []
  },
  {
   "cell_type": "code",
   "execution_count": 3,
   "metadata": {
    "collapsed": false
   },
   "outputs": [
    {
     "data": {
      "text/plain": [
       "'9'"
      ]
     },
     "execution_count": 3,
     "metadata": {},
     "output_type": "execute_result"
    }
   ],
   "source": [
    "l = 'au9-xyz-force.xyz'\n",
    "a = re.match(r\"au(\\d+)-xyz-force\\.xyz\", l)\n",
    "a.groups()[0]"
   ]
  },
  {
   "cell_type": "code",
   "execution_count": 4,
   "metadata": {
    "collapsed": false
   },
   "outputs": [
    {
     "data": {
      "text/plain": [
       "'9'"
      ]
     },
     "execution_count": 4,
     "metadata": {},
     "output_type": "execute_result"
    }
   ],
   "source": [
    "a.groups()[0]"
   ]
  },
  {
   "cell_type": "code",
   "execution_count": 2,
   "metadata": {
    "collapsed": false
   },
   "outputs": [
    {
     "data": {
      "text/plain": [
       "30295"
      ]
     },
     "execution_count": 2,
     "metadata": {},
     "output_type": "execute_result"
    }
   ],
   "source": [
    "def conf_count(directory):\n",
    "    total_conf = 0\n",
    "    reg = re.compile(r\"au(\\d+)-xyz-force\\.xyz\")\n",
    "    for dirpath, dirnames, filenames in os.walk(directory):\n",
    "        for filename in filenames:\n",
    "            result = reg.match(filename)\n",
    "            if result == None:\n",
    "                continue\n",
    "            atnr = int(result.groups()[0])\n",
    "            with open(dirpath+'/' + filename, 'r') as fp:\n",
    "                nl = len(fp.readlines())\n",
    "            conf = nl / (atnr + 2)\n",
    "            total_conf += conf\n",
    "#             print atnr, conf\n",
    "    return total_conf\n",
    "\n",
    "def  conf_subset(directory, subset_ratio = 0.1, file = 'subset.xyz'):\n",
    "    reg = re.compile(r\"au(\\d+)-xyz-force\\.xyz\")\n",
    "    for dirpath, dirnames, filenames in os.walk(directory):\n",
    "        for filename in filenames:\n",
    "            result = reg.match(filename)\n",
    "            if result == None:\n",
    "                continue\n",
    "            atnr = int(result.groups()[0])\n",
    "            with open(dirpath+'/' + filename, 'r') as fp:\n",
    "                lines = fp.readlines()\n",
    "                nl = len(lines)\n",
    "            conf = nl / (atnr + 2)\n",
    "            subset_conf = range(conf)\n",
    "            np.random.shuffle(subset_conf)\n",
    "            subset_conf = subset_conf[: int(subset_ratio * conf)]\n",
    "            subset_conf.sort()\n",
    "            with open(file, 'a') as fp:\n",
    "                for i in subset_conf:\n",
    "                    for j in range(atnr+2):\n",
    "                        fp.write(lines[i*(atnr+2)+j])\n",
    "\n",
    "def subset_count(file = 'subset.xyz'):\n",
    "    conf_energy = {}\n",
    "    with open(file, 'r') as fp:\n",
    "        lines = fp.readlines()\n",
    "    ln = 0\n",
    "    while ln < len(lines):\n",
    "        conf = int(lines[ln])\n",
    "        ln += 1\n",
    "        energy = float(lines[ln].split()[1])\n",
    "        if conf_energy.has_key(conf):\n",
    "            conf_energy[conf].append(energy)\n",
    "        else:\n",
    "            conf_energy[conf] = [energy]\n",
    "        ln += (conf+1)\n",
    "    return conf_energy\n",
    "\n",
    "\n",
    "# print conf_count('./')\n",
    "conf_subset('./', 0.15)\n",
    "conf_energy = subset_count()\n",
    "conf_count = {}\n",
    "for key in conf_energy.keys():\n",
    "    conf_count[key] = len(conf_energy[key])\n",
    "\n"
   ]
  },
  {
   "cell_type": "code",
   "execution_count": 4,
   "metadata": {
    "collapsed": true
   },
   "outputs": [],
   "source": [
    "reduce(lambda x, y: x+y, conf_count.values())\n",
    "plt.bar(conf_count.keys(), conf_count.values(), )\n",
    "plt.show()"
   ]
  },
  {
   "cell_type": "code",
   "execution_count": 9,
   "metadata": {
    "collapsed": false
   },
   "outputs": [],
   "source": [
    "plt.hist(conf_energy[12], bins=100)\n",
    "plt.show()"
   ]
  },
  {
   "cell_type": "code",
   "execution_count": null,
   "metadata": {
    "collapsed": false
   },
   "outputs": [],
   "source": []
  },
  {
   "cell_type": "code",
   "execution_count": null,
   "metadata": {
    "collapsed": true
   },
   "outputs": [],
   "source": []
  }
 ],
 "metadata": {
  "kernelspec": {
   "display_name": "Python 2",
   "language": "python",
   "name": "python2"
  },
  "language_info": {
   "codemirror_mode": {
    "name": "ipython",
    "version": 2
   },
   "file_extension": ".py",
   "mimetype": "text/x-python",
   "name": "python",
   "nbconvert_exporter": "python",
   "pygments_lexer": "ipython2",
   "version": "2.7.9"
  }
 },
 "nbformat": 4,
 "nbformat_minor": 0
}
