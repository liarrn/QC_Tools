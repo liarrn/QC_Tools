{
 "cells": [
  {
   "cell_type": "code",
   "execution_count": 1,
   "metadata": {
    "collapsed": true
   },
   "outputs": [],
   "source": [
    "import paramiko\n",
    "import time\n",
    "import math\n",
    "import numpy as np"
   ]
  },
  {
   "cell_type": "code",
   "execution_count": 16,
   "metadata": {
    "collapsed": false
   },
   "outputs": [
    {
     "name": "stdout",
     "output_type": "stream",
     "text": [
      "Submitted batch job 4818100\n",
      "\n",
      "\n"
     ]
    }
   ],
   "source": [
    "##########################TIANJIN##########################\n",
    "\n",
    "\n",
    "# my_jobs = [['cd /vol-th/home/Chgy/liyd/AuNT/zigzag/20/3/5.52/opt_fine', 'yhbatch -N 6 -n 36 -p TH_NET -J 203f RunVASP.5.4.1.sh'], \\\n",
    "#           ['cd /vol-th/home/Chgy/liyd/AuNT/zigzag/30/1/5.5/opt_fine', 'yhbatch -N 6 -n 36 -p TH_NET -J 301f RunVASP.5.4.1.sh'], \\\n",
    "#           ['cd /vol-th/home/Chgy/liyd/AuNT/zigzag/30/2/5.52/opt_fine', 'yhbatch -N 6 -n 36 -p TH_NET -J 302f RunVASP.5.4.1.sh'], \\\n",
    "#           ['cd /vol-th/home/Chgy/liyd/AuNT/armchair/33/2/9.3/opt_fine', 'yhbatch -N 6 -n 36 -p TH_NET -J 332f RunVASP.5.4.1.sh'], \\\n",
    "#           ['cd /vol-th/home/Chgy/liyd/AuNT/armchair/33/3/9.31/opt_fine', 'yhbatch -N 6 -n 36 -p TH_NET -J 333f RunVASP.5.4.1.sh']]\n",
    "\n",
    "# my_jobs = ['cd /vol-th/home/Chgy/liyd/AuNT/zigzag/30/2/5.52/opt_fine; yhbatch -N 6 -n 36 -p TH_NET -J 302f RunVASP.5.4.1.sh', \\\n",
    "          # 'cd /vol-th/home/Chgy/liyd/AuNT/armchair/33/2/9.3/opt_fine; yhbatch -N 6 -n 36 -p TH_NET -J 332f RunVASP.5.4.1.sh', \\\n",
    "          # 'cd /vol-th/home/Chgy/liyd/AuNT/armchair/33/3/9.31/opt_fine; yhbatch -N 6 -n 36 -p TH_NET -J 333f RunVASP.5.4.1.sh']\n",
    "\n",
    "# my_jobs = ['cd /vol-th/home/Chgy/liyd/AuNT/armchair/33/2/9.3/opt_fine; yhbatch -N 6 -n 36 -p TH_NET -J 332f RunVASP.5.4.1.sh', \\\n",
    "          # 'cd /vol-th/home/Chgy/liyd/AuNT/armchair/33/3/9.31/opt_fine; yhbatch -N 6 -n 36 -p TH_NET -J 333f RunVASP.5.4.1.sh']\n",
    "          \n",
    "my_jobs = ['cd /vol-th/home/Chgy/liyd/AuNT/zigzag/20/1/5.49/phonon/disp-006; yhbatch -N 2 -n 24 -p TH_NET -J 006 RunVASP.5.4.1.sh', \\\n",
    "                        'cd /vol-th/home/Chgy/liyd/AuNT/zigzag/20/1/5.49/phonon/disp-008; yhbatch -N 2 -n 24 -p TH_NET -J 008 RunVASP.5.4.1.sh', \\\n",
    "                        'cd /vol-th/home/Chgy/liyd/AuNT/zigzag/20/1/5.49/phonon/disp-009; yhbatch -N 2 -n 24 -p TH_NET -J 009 RunVASP.5.4.1.sh', \\\n",
    "                        'cd /vol-th/home/Chgy/liyd/AuNT/zigzag/20/1/5.49/phonon/disp-011; yhbatch -N 2 -n 24 -p TH_NET -J 011 RunVASP.5.4.1.sh']\n",
    "          \n",
    "# phonon_root = '/vol-th/home/Chgy/liyd/AuNT/zigzag/20/1/5.49/phonon/'\n",
    "# for i in range(3, 21):\n",
    "    # job = ['cd '+phonon_root+'disp-%03d; yhbatch -N 2 -n 24 -p TH_NET -J %03d RunVASP.5.4.1.sh'%(i, i)]\n",
    "    # my_jobs.extend(job)\n",
    "    \n",
    "max_jobs = 30\n",
    "ssh = paramiko.client.SSHClient()\n",
    "ssh.set_missing_host_key_policy(paramiko.AutoAddPolicy())\n",
    "ssh.connect('TH-1A-LN2', username='Chgy', password='@DjojW0Lt@()')\n",
    "\n",
    "ssh_stdin, ssh_stdout, ssh_stderr = ssh.exec_command(my_jobs[0])\n",
    "print ssh_stdout.read()\n",
    "print ssh_stderr.read()\n",
    "\n",
    "# while True:\n",
    "#     time.sleep(30)\n",
    "#     ssh_stdin, ssh_stdout, ssh_stderr = ssh.exec_command('yhqueue')\n",
    "#     # print ssh_stdout.read()\n",
    "#     curr_jobs = ssh_stdout.readlines()\n",
    "#     curr_jobs = curr_jobs[1: ]\n",
    "#     print len(curr_jobs), len(my_jobs)\n",
    "#     if len(curr_jobs) == max_jobs:\n",
    "#         continue\n",
    "#     for i in range(max_jobs-len(curr_jobs)):\n",
    "#         if len(my_jobs) == 0:\n",
    "#             break\n",
    "#         a, b, c = ssh.exec_command(my_jobs[0])\n",
    "#         my_jobs = my_jobs[1: ]"
   ]
  },
  {
   "cell_type": "code",
   "execution_count": 2,
   "metadata": {
    "collapsed": false
   },
   "outputs": [
    {
     "name": "stdout",
     "output_type": "stream",
     "text": [
      "host: 10.15.1.30; idle cpu: 24; jobs: 3\n",
      "host: 10.15.1.30; idle cpu: 24; jobs: 2\n",
      "host: 10.15.1.30; idle cpu: 24; jobs: 1\n",
      "host: 10.15.1.30; idle cpu: 24; jobs: 0\n"
     ]
    }
   ],
   "source": [
    "##########################WORKSTATION##########################\n",
    "ncores = 48\n",
    "my_jobs = ['cd ~/test/100cell111;  runvasp.sh > /dev/null 2>&1 &', \\\n",
    "          'cd ~/test/110cell111;  runvasp.sh > /dev/null 2>&1 &', \\\n",
    "          'cd ~/test/111cell111;  runvasp.sh > /dev/null 2>&1 &']\n",
    "hostname = '10.15.1.30'\n",
    "username = 'mengjun'\n",
    "password = 'mengjun'\n",
    "\n",
    "ssh = paramiko.client.SSHClient()\n",
    "ssh.set_missing_host_key_policy(paramiko.AutoAddPolicy())\n",
    "ssh.connect(hostname, username=username, password=password)\n",
    "while True:\n",
    "    ssh_stdin, ssh_stdout, ssh_stderr = ssh.exec_command('sar -u 10 1')\n",
    "    cpuinfo = ssh_stdout.readlines()\n",
    "    idle_cpu = int(np.round(ncores*float(cpuinfo[-1].split()[-1])/100.0))\n",
    "    print 'host: %s; idle cpu: %d; jobs: %d'%(hostname, idle_cpu, len(my_jobs))\n",
    "    if idle_cpu < 11:\n",
    "        continue\n",
    "    if len(my_jobs) == 0:\n",
    "        break\n",
    "    a, b, c = ssh.exec_command(my_jobs[0])\n",
    "    my_jobs = my_jobs[1: ]"
   ]
  },
  {
   "cell_type": "code",
   "execution_count": null,
   "metadata": {
    "collapsed": true
   },
   "outputs": [],
   "source": []
  },
  {
   "cell_type": "code",
   "execution_count": 14,
   "metadata": {
    "collapsed": false
   },
   "outputs": [
    {
     "name": "stdout",
     "output_type": "stream",
     "text": [
      "\n",
      "\n"
     ]
    }
   ],
   "source": [
    "ncores = 48\n",
    "ssh = paramiko.client.SSHClient()\n",
    "ssh.set_missing_host_key_policy(paramiko.AutoAddPolicy())\n",
    "ssh.connect('10.15.1.30', username='mengjun', password='mengjun')\n",
    "ssh_stdin, ssh_stdout, ssh_stderr = ssh.exec_command('cd ~/test/100cell111;  ./runvasp.sh > /dev/null 2>&1 &')\n",
    "# ssh_stdin, ssh_stdout, ssh_stderr = ssh.exec_command('cd ~/test/100cell111; ls')\n",
    "print ssh_stdout.read()\n",
    "print ssh_stderr.read()\n",
    "# ssh_stdin, ssh_stdout, ssh_stderr = ssh.exec_command('sar -u 2 1')\n",
    "# cpuinfo = ssh_stdout.readlines()\n",
    "# print int(np.round(ncores*float(cpuinfo[-1].split()[-1])))\n"
   ]
  },
  {
   "cell_type": "code",
   "execution_count": 28,
   "metadata": {
    "collapsed": false
   },
   "outputs": [
    {
     "data": {
      "text/plain": [
       "1196.16"
      ]
     },
     "execution_count": 28,
     "metadata": {},
     "output_type": "execute_result"
    }
   ],
   "source": [
    "24.92*48"
   ]
  },
  {
   "cell_type": "code",
   "execution_count": 13,
   "metadata": {
    "collapsed": false
   },
   "outputs": [
    {
     "name": "stdout",
     "output_type": "stream",
     "text": [
      "[u'intel\\n', u'mengjun\\n', u'nanotube\\n', u'opt\\n', u'script\\n', u'tmp\\n', u'upload\\n']\n"
     ]
    }
   ],
   "source": [
    "ssh = paramiko.client.SSHClient()\n",
    "ssh.set_missing_host_key_policy(paramiko.AutoAddPolicy())\n",
    "ssh.connect('10.15.1.21', username='liyd', password='12315')\n",
    "ssh_stdin, ssh_stdout, ssh_stderr = ssh.exec_command('ls')\n",
    "print ssh_stdout.readlines()"
   ]
  },
  {
   "cell_type": "code",
   "execution_count": null,
   "metadata": {
    "collapsed": false
   },
   "outputs": [],
   "source": []
  },
  {
   "cell_type": "code",
   "execution_count": null,
   "metadata": {
    "collapsed": false
   },
   "outputs": [],
   "source": [
    "######################################################33\n",
    "# check if vasp job is sucessful\n",
    "            \n",
    "import os\n",
    "\n",
    "def vasp_complete_check(directory):\n",
    "    completed = [] #  have ' reached required accuracy' in OUTCAR\n",
    "    completed_energy = []\n",
    "    pending = [] # have INCAR in directory, don't have OUTCAR\n",
    "    running = [] # have INCAR and OUTCAR, don't have  ' reached required accuracy'  in OUTCAR\n",
    "    for dirpath, dirnames, filenames in os.walk(directory):\n",
    "        if 'INCAR' in filenames:\n",
    "            if 'OUTCAR' in filenames:\n",
    "                with open(dirpath+'/OUTCAR', 'r') as fp:\n",
    "                    out = fp.readlines()\n",
    "                is_converged = False\n",
    "                for nl in list(reversed(range(len(out)))):\n",
    "                    if 'reached required accuracy' in out[nl]:\n",
    "                        is_converged = True\n",
    "                        break\n",
    "                if is_converged == True:\n",
    "                    completed.append(dirpath)\n",
    "                    for nl in list(reversed(range(len(out)))):\n",
    "                        if 'free' in out[nl]:\n",
    "                            completed_energy.append(float(out[nl].split()[-2]))\n",
    "                            break\n",
    "                else:\n",
    "                    running.append(dirpath)\n",
    "            else:\n",
    "                pending.append(dirpath)\n",
    "    print 'COMPLETED: '\n",
    "    for i in range(len(completed)):\n",
    "        print '    %-30sfree energy: %.4f eV'%(completed[i], completed_energy[i])\n",
    "    print 'PENDING (or have not been submited): '\n",
    "    for i in pending:\n",
    "        print '    '+i\n",
    "    print 'RUNNING (or failed): '\n",
    "    for i in running:\n",
    "        print '    '+i\n",
    "        \n",
    "if __name__ == '__main__':\n",
    "#     vasp_complete_check('./')"
   ]
  },
  {
   "cell_type": "code",
   "execution_count": 11,
   "metadata": {
    "collapsed": false
   },
   "outputs": [
    {
     "data": {
      "text/plain": [
       "[9, 8, 7, 6, 5, 4, 3, 2, 1, 0, 12]"
      ]
     },
     "execution_count": 11,
     "metadata": {},
     "output_type": "execute_result"
    }
   ],
   "source": [
    "a = list(reversed(range(10)))\n",
    "a.append(12)\n",
    "a"
   ]
  },
  {
   "cell_type": "code",
   "execution_count": 8,
   "metadata": {
    "collapsed": false
   },
   "outputs": [
    {
     "data": {
      "text/plain": [
       "True"
      ]
     },
     "execution_count": 8,
     "metadata": {},
     "output_type": "execute_result"
    }
   ],
   "source": [
    "'th.py' in os.listdir('./')"
   ]
  },
  {
   "cell_type": "code",
   "execution_count": null,
   "metadata": {
    "collapsed": true
   },
   "outputs": [],
   "source": []
  }
 ],
 "metadata": {
  "kernelspec": {
   "display_name": "Python 2",
   "language": "python",
   "name": "python2"
  },
  "language_info": {
   "codemirror_mode": {
    "name": "ipython",
    "version": 2
   },
   "file_extension": ".py",
   "mimetype": "text/x-python",
   "name": "python",
   "nbconvert_exporter": "python",
   "pygments_lexer": "ipython2",
   "version": "2.7.9"
  }
 },
 "nbformat": 4,
 "nbformat_minor": 0
}
