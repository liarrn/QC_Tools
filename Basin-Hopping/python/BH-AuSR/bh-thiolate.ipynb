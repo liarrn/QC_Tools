{
 "cells": [
  {
   "cell_type": "code",
   "execution_count": 3,
   "metadata": {
    "collapsed": true
   },
   "outputs": [],
   "source": [
    "import numpy as np\n",
    "from itertools import islice\n",
    "import re\n",
    "from subprocess import call\n",
    "import math\n",
    "import copy\n",
    "import matplotlib.pyplot as plt\n",
    "%matplotlib inline"
   ]
  },
  {
   "cell_type": "code",
   "execution_count": 2,
   "metadata": {
    "collapsed": false
   },
   "outputs": [],
   "source": [
    "\n",
    "\n",
    "def coor2xyz(elems, coor, des=''):\n",
    "    xyz = ''\n",
    "    natoms = coor.shape[0]\n",
    "    xyz += '%d\\n'%(natoms)\n",
    "    xyz += des.rstrip()\n",
    "    xyz += '\\n'\n",
    "    for i in range(natoms):\n",
    "        xyz += '%-5s%15.9f%15.9f%15.9f\\n'%(elems[i], coor[i][0], coor[i][1], coor[i][2])\n",
    "    return xyz\n",
    "\n",
    "def car2coor(carfile):\n",
    "    carfile = [i.split() for i in carfile[4:-2]]\n",
    "    elem = np.array([i[0] for i in carfile])\n",
    "    coor = np.array([map(float, i[1: 4]) for i in carfile])\n",
    "    return elem, coor\n",
    "\n",
    "def xyz2coor(xyzfile):\n",
    "    #     input xyz string list, each element in the list is a single line in xyz file\n",
    "    #     output elem array and coor array with shape natoms*3\n",
    "    natoms = int(xyzfile[0])\n",
    "    xyzfile = xyzfile[2: ]\n",
    "    xyzfile.sort()\n",
    "    xyzfile = [i.split() for i in xyzfile]\n",
    "    elems = [i[0] for i in xyzfile]\n",
    "    coors = [map(float, i[1: ]) for i in xyzfile]\n",
    "    elems = np.array(elems)\n",
    "    coors = np.array(coors)\n",
    "    return elems, coors\n",
    "\n",
    "def coor2car(elems, coors, lattice_params={'PBC': False}):\n",
    "    PBC = lattice_params['PBC']\n",
    "    header = '!BIOSYM archive 3\\n'\n",
    "    if PBC == True:\n",
    "        header += 'PBC=ON\\n'\n",
    "    elif PBC == False:\n",
    "        header += 'PBC=OFF\\n'\n",
    "    header += 'Materials Studio Generated CAR File\\n'\n",
    "    header += '!DATE     Apr 26 20:39:18 2016\\n'\n",
    "    if PBC == True:\n",
    "        header += 'PBC%10.4f%10.4f%10.4f%10.4f%10.4f%10.4f (P1)\\n'\\\n",
    "        %(lattice_params['a'], lattice_params['b'], lattice_params['c'], lattice_params['b2c'], lattice_params['a2c'], lattice_params['a2b'])\n",
    "    end = 'end\\nend\\n'\n",
    "    blanks = '                     '\n",
    "    natoms = coors.shape[0]\n",
    "    cartesian = ''\n",
    "    for i in range(natoms):\n",
    "        cartesian += \"%-5s%15.9f%15.9f%15.9f%s%-2s%8.3f\\n\"%(elems[i], coors[i, 0], coors[i, 1], coors[i, 2], blanks, elems[i], 0.000)\n",
    "    return header+cartesian+end\n",
    "\n",
    "def xyz2car(xyzfile):\n",
    "    #     input xyz string list, each element in the list is a single line in xyz file\n",
    "    #     output car file for dmol calculations\n",
    "    elems, coors = xyz2coor(xyzfile)\n",
    "    header = '!BIOSYM archive 3\\nPBC=OFF\\nMaterials Studio Generated CAR File\\n'\n",
    "    header += '!DATE     Apr 26 20:39:18 2016\\n'\n",
    "    end = 'end\\nend\\n'\n",
    "    blanks = '                     '\n",
    "    natoms = coors.shape[0]\n",
    "    cartesian = ''\n",
    "    for i in range(natoms):\n",
    "        cartesian += \"%-5s%15.9f%15.9f%15.9f%s%-2s%8.3f\\n\"%(elems[i], coors[i, 0], coors[i, 1], coors[i, 2], blanks, elems[i], 0.000)\n",
    "    return header+cartesian+end\n",
    "\n",
    "def readxyzfile(fp, natoms):\n",
    "    # read xyzfile\n",
    "    # input file pointer, number of atoms\n",
    "    # output: array of xyzfiles\n",
    "    xyzfiles = []\n",
    "    while True:\n",
    "        next_n_lines = list(islice(fp, natoms+2))\n",
    "        if not next_n_lines:\n",
    "            break\n",
    "        xyzfiles.append(next_n_lines)\n",
    "    xyzfiles = np.array(xyzfiles)\n",
    "    return xyzfiles"
   ]
  },
  {
   "cell_type": "code",
   "execution_count": 3,
   "metadata": {
    "collapsed": true
   },
   "outputs": [],
   "source": [
    "\n",
    "    \n",
    "    \n",
    "def writexyz(filename, write_type, elems, coor, des=''):\n",
    "    with open(filename, write_type) as xyz_out_fp:\n",
    "        xyz = coor2xyz(elems, coor, des)\n",
    "        xyz_out_fp.write(xyz)\n",
    "        \n",
    "def writeline(filename, write_type, des):\n",
    "    with open(filename, write_type) as fp:\n",
    "        fp.write(des)"
   ]
  },
  {
   "cell_type": "code",
   "execution_count": 4,
   "metadata": {
    "collapsed": true
   },
   "outputs": [],
   "source": [
    "def extract_energy_dmol_sp(project_name):\n",
    "    '''\n",
    "    extract final energy from dmol3's static point calculation\n",
    "    return energy in eV\n",
    "    if not success, return -1\n",
    "    '''\n",
    "    ha2ev = 27.211396\n",
    "    fp = open(project_name+'.outmol', 'r')\n",
    "    outmol = fp.read()\n",
    "    fp.close()\n",
    "    is_success = re.findall(\"successfully\", outmol)\n",
    "    if is_success != []:\n",
    "        is_success = True\n",
    "    else:\n",
    "        is_success = False\n",
    "        return -1\n",
    "    outmol = outmol.splitlines()\n",
    "    Ef_lines = []\n",
    "    for line in outmol:\n",
    "        if 'Ef' in line:\n",
    "            Ef_lines.append(line)\n",
    "    energy = float(Ef_lines[-1].split()[1][:-2])\n",
    "    energy *= ha2ev\n",
    "    return energy\n",
    "\n",
    "# def extract_energy_dmol_opt(project_name):\n",
    "#     '''\n",
    "#     extract final energy from dmol3's geometry optimization calculation\n",
    "#     return energy in eV and elems, coor, force\n",
    "#     if not success, return -1, -1, -1, -1\n",
    "#     '''\n",
    "#     bohr2ang = 0.529177208\n",
    "#     ha_bohr2ev_ang = 51.42208619083232 \n",
    "#     ha2ev = 27.211396\n",
    "#     with open(project_name+'.outmol', 'r') as fp:\n",
    "#         outmol = fp.readlines()\n",
    "#     length = len(outmol)\n",
    "#     for opt_line in list(reversed(range(length))):\n",
    "#         if 'opt==' in outmol[opt_line]:\n",
    "#             break\n",
    "#     if opt_line == 0:\n",
    "#         return -1, -1, -1, -1\n",
    "#     energy = float(outmol[opt_line].split()[2])\n",
    "#     energy *= ha2ev\n",
    "#     for final_line in list(reversed(range(length))):\n",
    "#         if 'DERIVATIVES' in outmol[final_line]:\n",
    "#             break\n",
    "#     final_line_end = final_line\n",
    "#     while outmol[final_line_end] != '\\n':\n",
    "#         final_line_end += 1\n",
    "#     final = copy.copy(outmol[final_line+2: final_line_end-1])\n",
    "#     final = [line.split()[1: ] for line in final]\n",
    "#     elems = np.array([line[0] for line in final])\n",
    "#     coor = np.array([map(float, line[1: 4]) for line in final])\n",
    "#     coor *= bohr2ang\n",
    "#     force = np.array([map(float, line[4: ]) for line in final])\n",
    "#     force *= ha_bohr2ev_ang\n",
    "#     return energy, elems, coor, force\n",
    "\n",
    "\n",
    "\n",
    "def extract_energy_dmol_opt(project_name):\n",
    "    '''\n",
    "    extract final energy from dmol3's geometry optimization calculation\n",
    "    return energy in eV and elems, coor, force\n",
    "    if not success, return -1, -1, -1, -1\n",
    "    '''\n",
    "    bohr2ang = 0.529177208\n",
    "    ha_bohr2ev_ang = 51.42208619083232 \n",
    "    ha2ev = 27.211396\n",
    "    with open(project_name+'.outmol', 'r') as fp:\n",
    "        outmol = fp.readlines()\n",
    "    length = len(outmol)\n",
    "    for opt_line in list(reversed(range(length))):\n",
    "        if 'Ef' in outmol[opt_line]:\n",
    "            break\n",
    "    if opt_line == 0:\n",
    "        return -1, -1, -1, -1\n",
    "    energy = float(outmol[opt_line].split()[1][:-2])\n",
    "    energy *= ha2ev\n",
    "    for final_line in list(reversed(range(length))):\n",
    "        if 'DERIVATIVES' in outmol[final_line]:\n",
    "            break\n",
    "    final_line_end = final_line\n",
    "    while outmol[final_line_end] != '\\n':\n",
    "        final_line_end += 1\n",
    "    final = copy.copy(outmol[final_line+2: final_line_end-1])\n",
    "    final = [line.split()[1: ] for line in final]\n",
    "    elems = np.array([line[0] for line in final])\n",
    "    coor = np.array([map(float, line[1: 4]) for line in final])\n",
    "    coor *= bohr2ang\n",
    "    force = np.array([map(float, line[4: ]) for line in final])\n",
    "    force *= ha_bohr2ev_ang\n",
    "    return energy, elems, coor, force\n",
    "    \n",
    "\n",
    "def extract_energy(calculator, jobtype, project_name):\n",
    "    '''\n",
    "    input calculator, jobtype, filename\n",
    "    calculator = enum('dmol3')\n",
    "    jobtype = enum('sp', 'opt')\n",
    "    if calc_params['calc_type'] is 'sp', then return the converged scf energy or -1 if scf failed\n",
    "    if calc_params['calc_type'] is 'opt', then return energy in eV and elems, coor, force, or -1, -1, -1, -1 if failed\n",
    "    '''\n",
    "    if calculator == 'dmol3' and jobtype == 'sp':\n",
    "        return extract_energy_dmol_sp(project_name)\n",
    "    if calculator == 'dmol3' and jobtype == 'opt':\n",
    "        return extract_energy_dmol_opt(project_name)\n",
    "    \n",
    "def call_dmol3(calc_params, elems, coor, lattice_param = {'PBC': False}):\n",
    "    '''\n",
    "    input calc_params, elems, coor\n",
    "    if calc_params['calc_type'] is 'sp', then return the converged scf energy or -1 if scf failed\n",
    "    if calc_params['calc_type'] is 'opt', then return energy in eV and elems, coor, force, or -1, -1, -1, -1 if failed\n",
    "    '''\n",
    "    project_name = calc_params['project_name']\n",
    "    calculator = 'dmol3'\n",
    "    calc_call = calc_params['calc_call']\n",
    "    calc_type = calc_params['calc_type']\n",
    "    \n",
    "    with open(project_name+'.car', 'w') as carfp:\n",
    "        carfp.write(coor2car(elems, coor, lattice_param))\n",
    "    call(calc_call)\n",
    "    return extract_energy(calculator, calc_type, project_name)"
   ]
  },
  {
   "cell_type": "code",
   "execution_count": null,
   "metadata": {
    "collapsed": true
   },
   "outputs": [],
   "source": []
  },
  {
   "cell_type": "code",
   "execution_count": 1,
   "metadata": {
    "collapsed": true
   },
   "outputs": [],
   "source": [
    "def BoltzmannFactor(en1, en2, Temp, unit):\n",
    "    # unit = enum('ha', 'ev')\n",
    "    BoltzmannConstant = 1.38064852E-23 # in unit of Joule/Klein\n",
    "    Joule2Hartree = 229371044869059200 # Joul2Hartree ha per joule\n",
    "    Joule2EV = 6241506479963234000 # Joule2EV ev per joule\n",
    "    if unit == 'ha':\n",
    "        k = BoltzmannConstant * Joule2Hartree\n",
    "    elif unit == 'ev':\n",
    "        k = BoltzmannConstant * Joule2EV\n",
    "    factor = math.exp(-(en1-en2)/(k*Temp))\n",
    "    return factor"
   ]
  },
  {
   "cell_type": "code",
   "execution_count": 14,
   "metadata": {
    "collapsed": false
   },
   "outputs": [
    {
     "data": {
      "text/plain": [
       "0.9999988395479753"
      ]
     },
     "execution_count": 14,
     "metadata": {},
     "output_type": "execute_result"
    }
   ],
   "source": [
    "BoltzmannFactor(1, 0, 1E10, 'ev')"
   ]
  },
  {
   "cell_type": "code",
   "execution_count": null,
   "metadata": {
    "collapsed": false
   },
   "outputs": [],
   "source": []
  },
  {
   "cell_type": "code",
   "execution_count": null,
   "metadata": {
    "collapsed": false
   },
   "outputs": [],
   "source": []
  },
  {
   "cell_type": "code",
   "execution_count": null,
   "metadata": {
    "collapsed": true
   },
   "outputs": [],
   "source": []
  },
  {
   "cell_type": "code",
   "execution_count": null,
   "metadata": {
    "collapsed": false
   },
   "outputs": [],
   "source": []
  },
  {
   "cell_type": "code",
   "execution_count": 33,
   "metadata": {
    "collapsed": true
   },
   "outputs": [],
   "source": [
    "def elem_index(elems, target_elem):\n",
    "    result = []\n",
    "    for i in range(len(elems)):\n",
    "        if elems[i] == target_elem:\n",
    "            result.append(i)\n",
    "    return result\n",
    "\n",
    "# elems = ['Au', 'Au', 'Au', 'Au', 'Au', 'Au', 'S', 'S', 'S', 'S', 'S', 'S', 'H', 'H', 'H', 'H', 'H', 'H']\n",
    "# elem_index(elems, 'H')\n",
    "\n",
    "\n",
    "def nearest_hydrogen(elems, coors, sulfur):\n",
    "    hydrogen = elem_index(elems, 'H')\n",
    "    shortest_dist = 100\n",
    "    for h in hydrogen:\n",
    "        dist = np.sqrt(sum((coors[sulfur]-coors[h])**2))\n",
    "#         print h, dist, coors[sulfur], coors[h]\n",
    "        if dist < shortest_dist:\n",
    "            shortest_dist = dist\n",
    "            nearest_hydrogen = h\n",
    "    return nearest_hydrogen"
   ]
  },
  {
   "cell_type": "code",
   "execution_count": null,
   "metadata": {
    "collapsed": false
   },
   "outputs": [],
   "source": []
  },
  {
   "cell_type": "code",
   "execution_count": 43,
   "metadata": {
    "collapsed": false
   },
   "outputs": [],
   "source": [
    "def move_cluster_randall(coor, params):\n",
    "    natoms = coor.shape[0]\n",
    "    step_size = params['step_size'] if params['big_step'] == False else params['big_step_size']\n",
    "    moved = coor + (np.random.rand(natoms, 3)*2-1) * step_size\n",
    "    return moved\n",
    "     \n",
    "def move_cluster_all(coor, params):\n",
    "    natoms = coor.shape[0]\n",
    "    step_size = params['step_size'] if params['big_step'] == False else params['big_step_size']\n",
    "    moved = coor + (np.tile(np.random.rand(3), [natoms, 1])*2-1) * step_size\n",
    "    return moved\n",
    "\n",
    "# def move_cluster(coor, params):\n",
    "#     # input: coordination, method, params\n",
    "#     # output: displaced coor\n",
    "#     # method = enum('randall)\n",
    "#     if params['method'] == 'randall':\n",
    "#         return move_cluster_randall(coor, params)\n",
    "#     if params['method'] == 'randone':\n",
    "#         return move_cluster_randone(coor, params)\n",
    "    \n",
    "\n",
    "def move_cluster_thiolate(elems, coor, params):\n",
    "    au = elem_index(elems, 'Au')\n",
    "    sulfur_hydrogen_pair = [[s, nearest_hydrogen(elems, coor, s)] for s in elem_index(elems, 'S')]\n",
    "#     print au\n",
    "#     print sulfur_hydrogen_pair\n",
    "    moved = copy.copy(coor)\n",
    "    # random move au atoms\n",
    "    moved[au] = move_cluster_randall(coor[au], params)\n",
    "    for i in range(len(sulfur_hydrogen_pair)):\n",
    "        moved[sulfur_hydrogen_pair[i]] = move_cluster_all(coor[sulfur_hydrogen_pair[i]], params)\n",
    "    return elems, moved"
   ]
  },
  {
   "cell_type": "code",
   "execution_count": null,
   "metadata": {
    "collapsed": false
   },
   "outputs": [],
   "source": []
  },
  {
   "cell_type": "code",
   "execution_count": null,
   "metadata": {
    "collapsed": false
   },
   "outputs": [],
   "source": []
  },
  {
   "cell_type": "code",
   "execution_count": null,
   "metadata": {
    "collapsed": false
   },
   "outputs": [],
   "source": []
  },
  {
   "cell_type": "code",
   "execution_count": null,
   "metadata": {
    "collapsed": true
   },
   "outputs": [],
   "source": []
  },
  {
   "cell_type": "code",
   "execution_count": null,
   "metadata": {
    "collapsed": false
   },
   "outputs": [],
   "source": []
  },
  {
   "cell_type": "code",
   "execution_count": null,
   "metadata": {
    "collapsed": false
   },
   "outputs": [],
   "source": []
  },
  {
   "cell_type": "code",
   "execution_count": null,
   "metadata": {
    "collapsed": false
   },
   "outputs": [],
   "source": []
  },
  {
   "cell_type": "code",
   "execution_count": null,
   "metadata": {
    "collapsed": false
   },
   "outputs": [],
   "source": []
  },
  {
   "cell_type": "code",
   "execution_count": null,
   "metadata": {
    "collapsed": false
   },
   "outputs": [],
   "source": []
  },
  {
   "cell_type": "code",
   "execution_count": null,
   "metadata": {
    "collapsed": false
   },
   "outputs": [],
   "source": []
  },
  {
   "cell_type": "code",
   "execution_count": null,
   "metadata": {
    "collapsed": true
   },
   "outputs": [],
   "source": []
  },
  {
   "cell_type": "code",
   "execution_count": null,
   "metadata": {
    "collapsed": true
   },
   "outputs": [],
   "source": []
  },
  {
   "cell_type": "code",
   "execution_count": null,
   "metadata": {
    "collapsed": true
   },
   "outputs": [],
   "source": []
  },
  {
   "cell_type": "code",
   "execution_count": null,
   "metadata": {
    "collapsed": true
   },
   "outputs": [],
   "source": []
  },
  {
   "cell_type": "code",
   "execution_count": null,
   "metadata": {
    "collapsed": true
   },
   "outputs": [],
   "source": []
  },
  {
   "cell_type": "code",
   "execution_count": null,
   "metadata": {
    "collapsed": true
   },
   "outputs": [],
   "source": []
  },
  {
   "cell_type": "code",
   "execution_count": null,
   "metadata": {
    "collapsed": true
   },
   "outputs": [],
   "source": []
  },
  {
   "cell_type": "code",
   "execution_count": null,
   "metadata": {
    "collapsed": false
   },
   "outputs": [],
   "source": []
  },
  {
   "cell_type": "code",
   "execution_count": null,
   "metadata": {
    "collapsed": true
   },
   "outputs": [],
   "source": [
    "def basin_hopping_dmol3(xyzfilename, calc_params, mc_params, move_params):\n",
    "    calculator = 'dmol3'\n",
    "    temp = mc_params['temp']\n",
    "    num_steps = mc_params['num_steps']\n",
    "    project_name = calc_params['project_name']\n",
    "    natoms = calc_params['natoms']\n",
    "    xyz_out = project_name+'-xyz.xyz'\n",
    "    xyz_force_out = project_name+'-xyz-force.xyz'\n",
    "    energy_outfile_name = project_name+'-energy.out'\n",
    "    \n",
    "    with open(xyzfilename, 'r') as xyzfp:\n",
    "        xyz = readxyzfile(xyzfp, natoms)\n",
    "    curr_elems, curr_coor = xyz2coor(xyz[0])\n",
    "    curr_energy, curr_elems, curr_coor, curr_force = call_dmol3(calc_params, curr_elems, curr_coor)\n",
    "    \n",
    "    writexyz(xyz_out, 'w', curr_elems, curr_coor, '1th %.9f eV'%curr_energy)\n",
    "    writeline(energy_outfile_name, 'w', 'current_energy(eV)    next_energy(eV)\\n')\n",
    "    writeline(energy_outfile_name, 'a', '%.9f    %.9f\\n'%(curr_energy, curr_energy))\n",
    "    \n",
    "    stuck_steps = 0\n",
    "    pre_energy = curr_energy\n",
    "    for i in range(num_steps):\n",
    "        next_elems, next_coor = move_cluster_thiolate(curr_elems, curr_coor, move_params)\n",
    "        #         next_elems = copy.copy(curr_elems)\n",
    "        next_energy, next_elems, next_coor, next_force = call_dmol3(calc_params, next_elems, next_coor)\n",
    "        \n",
    "        # if scf run is not sucessful, continue to next iteration\n",
    "        if next_energy == -1:\n",
    "            continue\n",
    "        \n",
    "        writexyz(xyz_out, 'a', next_elems, next_coor, '%dth %.9f eV'%(i+2, next_energy))\n",
    "        writeline(energy_outfile_name, 'a', '%.9f    %.9f\\n'%(curr_energy, next_energy))\n",
    "        \n",
    "        is_move = False\n",
    "        if next_energy<= curr_energy:\n",
    "            is_move = True\n",
    "        else:\n",
    "            bf = BoltzmannFactor(next_energy, curr_energy, temp, 'ev')\n",
    "            rn = np.random.rand()\n",
    "            if rn < bf:\n",
    "                is_move = True\n",
    "        if move_params['big_step'] == True:\n",
    "            is_move = True\n",
    "        if is_move == True:\n",
    "            curr_energy = next_energy\n",
    "            curr_coor = next_coor\n",
    "            curr_elems = next_elems\n",
    "            \n",
    "        if np.abs(pre_energy-curr_energy) < 0.08:\n",
    "            stuck_steps += 1\n",
    "        else:\n",
    "            stuck_steps = 0\n",
    "        pre_energy = curr_energy\n",
    "        \n",
    "        if stuck_steps >= move_params['max_stuck_steps']:\n",
    "            move_params['big_step'] = True\n",
    "            num_big_step = move_params['num_big_step']\n",
    "        num_big_step -= 1\n",
    "        if num_big_step < 0:\n",
    "            move_params['big_step'] = False\n",
    "\n",
    "def basin_hopping(xyzfilename, calc_params, mc_params, move_params):\n",
    "    if calc_params['calculator'] == 'dmol3':\n",
    "        basin_hopping_dmol3(xyzfilename, calc_params, mc_params, move_params)\n",
    "        \n",
    "        \n",
    "if __name__ == '__main__':\n",
    "    xyzfilename = './initiate.xyz'\n",
    "    calc_params = {}\n",
    "    calc_params['project_name'] = 'au20'\n",
    "    calc_params['natoms'] = 20\n",
    "    calc_params['calculator'] = 'dmol3'\n",
    "    calc_params['calc_call'] = './RunDMol3.sh -np 24 ' + calc_params['project_name']\n",
    "    calc_params['calc_call'] = calc_params['calc_call'].split()\n",
    "    calc_params['calc_type'] = 'opt'\n",
    "    \n",
    "    mc_params = {}\n",
    "    mc_params['temp'] = 7500\n",
    "    mc_params['num_steps'] = 10000\n",
    "    \n",
    "    move_params={'method': 'randall', 'step_size': 0.7, 'big_step_size': 1.4, 'big_step': False, 'num_big_step': 10, 'max_stuck_steps': 10}\n",
    "    \n",
    "    basin_hopping_dmol3(xyzfilename, calc_params, mc_params, move_params)\n",
    "    "
   ]
  },
  {
   "cell_type": "code",
   "execution_count": null,
   "metadata": {
    "collapsed": true
   },
   "outputs": [],
   "source": []
  },
  {
   "cell_type": "code",
   "execution_count": null,
   "metadata": {
    "collapsed": true
   },
   "outputs": [],
   "source": []
  },
  {
   "cell_type": "code",
   "execution_count": null,
   "metadata": {
    "collapsed": true
   },
   "outputs": [],
   "source": []
  },
  {
   "cell_type": "code",
   "execution_count": null,
   "metadata": {
    "collapsed": true
   },
   "outputs": [],
   "source": []
  },
  {
   "cell_type": "code",
   "execution_count": null,
   "metadata": {
    "collapsed": false
   },
   "outputs": [],
   "source": []
  },
  {
   "cell_type": "code",
   "execution_count": null,
   "metadata": {
    "collapsed": false,
    "scrolled": true
   },
   "outputs": [],
   "source": []
  },
  {
   "cell_type": "code",
   "execution_count": null,
   "metadata": {
    "collapsed": false
   },
   "outputs": [],
   "source": []
  },
  {
   "cell_type": "code",
   "execution_count": null,
   "metadata": {
    "collapsed": false
   },
   "outputs": [],
   "source": []
  },
  {
   "cell_type": "code",
   "execution_count": null,
   "metadata": {
    "collapsed": false
   },
   "outputs": [],
   "source": []
  },
  {
   "cell_type": "code",
   "execution_count": null,
   "metadata": {
    "collapsed": false
   },
   "outputs": [],
   "source": []
  },
  {
   "cell_type": "code",
   "execution_count": null,
   "metadata": {
    "collapsed": true
   },
   "outputs": [],
   "source": []
  },
  {
   "cell_type": "code",
   "execution_count": null,
   "metadata": {
    "collapsed": true
   },
   "outputs": [],
   "source": []
  },
  {
   "cell_type": "code",
   "execution_count": null,
   "metadata": {
    "collapsed": false
   },
   "outputs": [],
   "source": []
  },
  {
   "cell_type": "code",
   "execution_count": null,
   "metadata": {
    "collapsed": false
   },
   "outputs": [],
   "source": []
  },
  {
   "cell_type": "code",
   "execution_count": null,
   "metadata": {
    "collapsed": false
   },
   "outputs": [],
   "source": []
  },
  {
   "cell_type": "code",
   "execution_count": null,
   "metadata": {
    "collapsed": true
   },
   "outputs": [],
   "source": []
  }
 ],
 "metadata": {
  "kernelspec": {
   "display_name": "Python 2",
   "language": "python",
   "name": "python2"
  },
  "language_info": {
   "codemirror_mode": {
    "name": "ipython",
    "version": 2
   },
   "file_extension": ".py",
   "mimetype": "text/x-python",
   "name": "python",
   "nbconvert_exporter": "python",
   "pygments_lexer": "ipython2",
   "version": "2.7.9"
  }
 },
 "nbformat": 4,
 "nbformat_minor": 0
}
