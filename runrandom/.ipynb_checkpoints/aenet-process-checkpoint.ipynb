{
 "cells": [
  {
   "cell_type": "code",
   "execution_count": 39,
   "metadata": {
    "collapsed": true
   },
   "outputs": [],
   "source": [
    "import numpy as np\n",
    "import copy"
   ]
  },
  {
   "cell_type": "code",
   "execution_count": null,
   "metadata": {
    "collapsed": true
   },
   "outputs": [],
   "source": []
  },
  {
   "cell_type": "code",
   "execution_count": null,
   "metadata": {
    "collapsed": false
   },
   "outputs": [],
   "source": []
  },
  {
   "cell_type": "code",
   "execution_count": null,
   "metadata": {
    "collapsed": true
   },
   "outputs": [],
   "source": []
  },
  {
   "cell_type": "code",
   "execution_count": null,
   "metadata": {
    "collapsed": true
   },
   "outputs": [],
   "source": []
  },
  {
   "cell_type": "code",
   "execution_count": null,
   "metadata": {
    "collapsed": true
   },
   "outputs": [],
   "source": []
  },
  {
   "cell_type": "code",
   "execution_count": 51,
   "metadata": {
    "collapsed": true
   },
   "outputs": [],
   "source": [
    "def xyz2xsf(xyz_filename, xsf_prefix):\n",
    "    with open(xyz_filename) as fp:\n",
    "        xyz = fp.readlines()\n",
    "    natoms = int(xyz[0])\n",
    "    num_step = len(xyz)/(natoms+2)\n",
    "    if len(xyz[2].split()) == 4:\n",
    "        is_force = False\n",
    "    elif len(xyz[2].split()) == 7:\n",
    "        is_force = True\n",
    "    for i in range(num_step):\n",
    "        energy = float(xyz[(natoms+2)*i+1].split()[1])\n",
    "        header = '# total energy = %.9f eV\\n\\n'%energy\n",
    "        if is_force == True:\n",
    "            coor = xyz[(natoms+2)*i+2: (natoms+2)*(i+1)]\n",
    "        elif is_force == False:\n",
    "            coor = map(lambda s: s.rstrip()+'%15.9f%15.9f%15.9f\\n'%(0.0, 0.0, 0.0), xyz[(natoms+2)*i+2: (natoms+2)*(i+1)])\n",
    "        coor = reduce(lambda s1, s2: s1+s2, coor)\n",
    "        with open(xsf_prefix+'%05d'%i+'.xsf', 'w') as fp:\n",
    "            fp.write(header)\n",
    "            fp.write(coor)"
   ]
  },
  {
   "cell_type": "code",
   "execution_count": 52,
   "metadata": {
    "collapsed": false
   },
   "outputs": [
    {
     "ename": "IOError",
     "evalue": "[Errno 2] No such file or directory: 'xyz-force.xyz'",
     "output_type": "error",
     "traceback": [
      "\u001b[1;31m---------------------------------------------------------------------------\u001b[0m",
      "\u001b[1;31mIOError\u001b[0m                                   Traceback (most recent call last)",
      "\u001b[1;32m<ipython-input-52-706da98f0d86>\u001b[0m in \u001b[0;36m<module>\u001b[1;34m()\u001b[0m\n\u001b[1;32m----> 1\u001b[1;33m \u001b[0mxyz2xsf\u001b[0m\u001b[1;33m(\u001b[0m\u001b[1;34m'xyz-force.xyz'\u001b[0m\u001b[1;33m,\u001b[0m \u001b[1;34m'au10_'\u001b[0m\u001b[1;33m)\u001b[0m\u001b[1;33m\u001b[0m\u001b[0m\n\u001b[0m",
      "\u001b[1;32m<ipython-input-51-999e2790ef8d>\u001b[0m in \u001b[0;36mxyz2xsf\u001b[1;34m(xyz_filename, xsf_prefix)\u001b[0m\n\u001b[0;32m      1\u001b[0m \u001b[1;32mdef\u001b[0m \u001b[0mxyz2xsf\u001b[0m\u001b[1;33m(\u001b[0m\u001b[0mxyz_filename\u001b[0m\u001b[1;33m,\u001b[0m \u001b[0mxsf_prefix\u001b[0m\u001b[1;33m)\u001b[0m\u001b[1;33m:\u001b[0m\u001b[1;33m\u001b[0m\u001b[0m\n\u001b[1;32m----> 2\u001b[1;33m     \u001b[1;32mwith\u001b[0m \u001b[0mopen\u001b[0m\u001b[1;33m(\u001b[0m\u001b[0mxyz_filename\u001b[0m\u001b[1;33m)\u001b[0m \u001b[1;32mas\u001b[0m \u001b[0mfp\u001b[0m\u001b[1;33m:\u001b[0m\u001b[1;33m\u001b[0m\u001b[0m\n\u001b[0m\u001b[0;32m      3\u001b[0m         \u001b[0mxyz\u001b[0m \u001b[1;33m=\u001b[0m \u001b[0mfp\u001b[0m\u001b[1;33m.\u001b[0m\u001b[0mreadlines\u001b[0m\u001b[1;33m(\u001b[0m\u001b[1;33m)\u001b[0m\u001b[1;33m\u001b[0m\u001b[0m\n\u001b[0;32m      4\u001b[0m     \u001b[0mnatoms\u001b[0m \u001b[1;33m=\u001b[0m \u001b[0mint\u001b[0m\u001b[1;33m(\u001b[0m\u001b[0mxyz\u001b[0m\u001b[1;33m[\u001b[0m\u001b[1;36m0\u001b[0m\u001b[1;33m]\u001b[0m\u001b[1;33m)\u001b[0m\u001b[1;33m\u001b[0m\u001b[0m\n\u001b[0;32m      5\u001b[0m     \u001b[0mnum_step\u001b[0m \u001b[1;33m=\u001b[0m \u001b[0mlen\u001b[0m\u001b[1;33m(\u001b[0m\u001b[0mxyz\u001b[0m\u001b[1;33m)\u001b[0m\u001b[1;33m/\u001b[0m\u001b[1;33m(\u001b[0m\u001b[0mnatoms\u001b[0m\u001b[1;33m+\u001b[0m\u001b[1;36m2\u001b[0m\u001b[1;33m)\u001b[0m\u001b[1;33m\u001b[0m\u001b[0m\n",
      "\u001b[1;31mIOError\u001b[0m: [Errno 2] No such file or directory: 'xyz-force.xyz'"
     ]
    }
   ],
   "source": [
    "xyz2xsf('xyz-force.xyz', 'au10_')"
   ]
  },
  {
   "cell_type": "code",
   "execution_count": 53,
   "metadata": {
    "collapsed": false
   },
   "outputs": [
    {
     "ename": "IOError",
     "evalue": "[Errno 2] No such file or directory: 'xyz-force.xyz'",
     "output_type": "error",
     "traceback": [
      "\u001b[1;31m---------------------------------------------------------------------------\u001b[0m",
      "\u001b[1;31mIOError\u001b[0m                                   Traceback (most recent call last)",
      "\u001b[1;32m<ipython-input-53-dec092181cb0>\u001b[0m in \u001b[0;36m<module>\u001b[1;34m()\u001b[0m\n\u001b[0;32m      1\u001b[0m \u001b[1;32mif\u001b[0m \u001b[0m__name__\u001b[0m \u001b[1;33m==\u001b[0m \u001b[1;34m'__main__'\u001b[0m\u001b[1;33m:\u001b[0m\u001b[1;33m\u001b[0m\u001b[0m\n\u001b[1;32m----> 2\u001b[1;33m     \u001b[0mxyz2xsf\u001b[0m\u001b[1;33m(\u001b[0m\u001b[1;34m'xyz-force.xyz'\u001b[0m\u001b[1;33m,\u001b[0m \u001b[1;34m'au10_'\u001b[0m\u001b[1;33m)\u001b[0m\u001b[1;33m\u001b[0m\u001b[0m\n\u001b[0m",
      "\u001b[1;32m<ipython-input-51-999e2790ef8d>\u001b[0m in \u001b[0;36mxyz2xsf\u001b[1;34m(xyz_filename, xsf_prefix)\u001b[0m\n\u001b[0;32m      1\u001b[0m \u001b[1;32mdef\u001b[0m \u001b[0mxyz2xsf\u001b[0m\u001b[1;33m(\u001b[0m\u001b[0mxyz_filename\u001b[0m\u001b[1;33m,\u001b[0m \u001b[0mxsf_prefix\u001b[0m\u001b[1;33m)\u001b[0m\u001b[1;33m:\u001b[0m\u001b[1;33m\u001b[0m\u001b[0m\n\u001b[1;32m----> 2\u001b[1;33m     \u001b[1;32mwith\u001b[0m \u001b[0mopen\u001b[0m\u001b[1;33m(\u001b[0m\u001b[0mxyz_filename\u001b[0m\u001b[1;33m)\u001b[0m \u001b[1;32mas\u001b[0m \u001b[0mfp\u001b[0m\u001b[1;33m:\u001b[0m\u001b[1;33m\u001b[0m\u001b[0m\n\u001b[0m\u001b[0;32m      3\u001b[0m         \u001b[0mxyz\u001b[0m \u001b[1;33m=\u001b[0m \u001b[0mfp\u001b[0m\u001b[1;33m.\u001b[0m\u001b[0mreadlines\u001b[0m\u001b[1;33m(\u001b[0m\u001b[1;33m)\u001b[0m\u001b[1;33m\u001b[0m\u001b[0m\n\u001b[0;32m      4\u001b[0m     \u001b[0mnatoms\u001b[0m \u001b[1;33m=\u001b[0m \u001b[0mint\u001b[0m\u001b[1;33m(\u001b[0m\u001b[0mxyz\u001b[0m\u001b[1;33m[\u001b[0m\u001b[1;36m0\u001b[0m\u001b[1;33m]\u001b[0m\u001b[1;33m)\u001b[0m\u001b[1;33m\u001b[0m\u001b[0m\n\u001b[0;32m      5\u001b[0m     \u001b[0mnum_step\u001b[0m \u001b[1;33m=\u001b[0m \u001b[0mlen\u001b[0m\u001b[1;33m(\u001b[0m\u001b[0mxyz\u001b[0m\u001b[1;33m)\u001b[0m\u001b[1;33m/\u001b[0m\u001b[1;33m(\u001b[0m\u001b[0mnatoms\u001b[0m\u001b[1;33m+\u001b[0m\u001b[1;36m2\u001b[0m\u001b[1;33m)\u001b[0m\u001b[1;33m\u001b[0m\u001b[0m\n",
      "\u001b[1;31mIOError\u001b[0m: [Errno 2] No such file or directory: 'xyz-force.xyz'"
     ]
    }
   ],
   "source": [
    "if __name__ == '__main__':\n",
    "    xyz2xsf('xyz-force.xyz', 'au10_')"
   ]
  },
  {
   "cell_type": "code",
   "execution_count": null,
   "metadata": {
    "collapsed": false
   },
   "outputs": [],
   "source": []
  },
  {
   "cell_type": "code",
   "execution_count": 54,
   "metadata": {
    "collapsed": true
   },
   "outputs": [],
   "source": [
    "def genfcc(lattice_param):\n",
    "    '''\n",
    "    input lattice_param, return corresponding fcc coordinates\n",
    "    '''\n",
    "    a = lattice_param['a']\n",
    "    b = lattice_param['b']\n",
    "    c = lattice_param['c']\n",
    "    a2b = lattice_param['a2b']/180.0*np.pi\n",
    "    b2c = lattice_param['b2c']/180.0*np.pi\n",
    "    a2c = lattice_param['a2c']/180.0*np.pi\n",
    "    \n",
    "    va = np.array([a, 0, 0])\n",
    "    vb = np.array([b*np.cos(a2b), b*np.sin(a2b), 0])\n",
    "    vc_x= np.cos(a2c)\n",
    "    vc_y = (np.cos(b2c)-np.cos(a2c)*np.cos(a2b))/np.sin(a2b)\n",
    "    vc_z = np.sqrt(1-vc_x**2-vc_y**2)\n",
    "    vc = np.array([vc_x, vc_y, vc_z])*c\n",
    "#     print va, vb, vc\n",
    "    \n",
    "    coor = np.zeros([4, 3])\n",
    "    coor[1, :] = (vb+vc)/2.0\n",
    "    coor[2, :] = (va+vc)/2.0\n",
    "    coor[3, :] = (va+vb)/2.0\n",
    "    return coor"
   ]
  },
  {
   "cell_type": "code",
   "execution_count": 55,
   "metadata": {
    "collapsed": false
   },
   "outputs": [
    {
     "name": "stdout",
     "output_type": "stream",
     "text": [
      "(13,)\n"
     ]
    }
   ],
   "source": [
    "# def lattice_constant_scaling(lattice_param, a_range, b_range, c_range):\n",
    "#     # return list of coor and list of lattice_param\n",
    "#     coor = np.array([genfcc(lattice_param)])\n",
    "#     lattice_params = np.array([lattice_param])\n",
    "#     curr_lattice = copy.copy(lattice_param)\n",
    "#     for a in a_range+lattice_param['a']:\n",
    "#         curr_lattice['a'] = a\n",
    "#         for b in b_range+lattice_param['b']:\n",
    "#             curr_lattice['b'] = b\n",
    "#             for c in c_range+lattice_param['c']:\n",
    "#                 curr_lattice['c'] = c\n",
    "#                 coor = np.concatenate([coor, np.array([genfcc(curr_lattice)])])\n",
    "#                 lattice_params = np.concatenate([lattice_params, np.array([copy.copy(curr_lattice)])])\n",
    "# #                 print curr_lattice\n",
    "# #                 print lattice_params\n",
    "#     coor = coor[1: ]\n",
    "#     lattice_params = lattice_params[1: ]\n",
    "#     return coor, lattice_params\n",
    "\n",
    "# lattice_param = {'a': 4.4564, 'b': 4.4564, 'c': 4.4564, 'a2b': 90, 'b2c': 90, 'a2c': 90}\n",
    "# a_range = np.arange(-0.6, 0.7, 0.1)\n",
    "# b_range = np.arange(-0.6, 0.7, 0.1)\n",
    "# c_range = np.arange(-0.6, 0.7, 0.1)\n",
    "# coor, lattice_param = lattice_constant_scaling(lattice_param, a_range, b_range, c_range)\n",
    "\n",
    "\n",
    "# def lattice_constant_scaling(lattice_param, scaling_params):\n",
    "#     # return list of coor and list of lattice_param\n",
    "#     coor = np.array([genfcc(lattice_param)])\n",
    "#     lattice_params = np.array([lattice_param])\n",
    "#     curr_lattice = copy.copy(lattice_param)\n",
    "#     for a in np.arange(scaling_params['a_min'], scaling_params['a_max']+scaling_params['a_step'], scaling_params['a_step']):\n",
    "#         curr_lattice['a'] = a\n",
    "#         for b in np.arange(a, scaling_params['b_max']+scaling_params['b_step'], scaling_params['b_step']):\n",
    "#             curr_lattice['b'] = b\n",
    "#             for c in np.arange(b, scaling_params['c_max']+scaling_params['c_step'], scaling_params['c_step']):\n",
    "#                 curr_lattice['c'] = c\n",
    "#                 coor = np.concatenate([coor, np.array([genfcc(curr_lattice)])])\n",
    "#                 lattice_params = np.concatenate([lattice_params, np.array([copy.copy(curr_lattice)])])\n",
    "#     coor = coor[1: ]\n",
    "#     lattice_params = lattice_params[1: ]\n",
    "#     return coor, lattice_params\n",
    "\n",
    "# lattice_param = {'a': 4.4564, 'b': 4.4564, 'c': 4.4564, 'a2b': 90, 'b2c': 90, 'a2c': 90}\n",
    "# scaling_params = {'a_min': 3.8564, 'a_max': 5.0564, 'a_step': 0.1, \n",
    "#                   'b_min': 3.8564, 'b_max': 5.0564, 'b_step': 0.1,\n",
    "#                   'c_min': 3.8564, 'c_max': 5.0564, 'c_step': 0.1}\n",
    "# coor, lattice_param = lattice_constant_scaling(lattice_param, scaling_params)\n",
    "\n",
    "\n",
    "def lattice_constant_scaling(lattice_param, scaling_params):\n",
    "    # return list of coor and list of lattice_param\n",
    "    coor = np.array([genfcc(lattice_param)])\n",
    "    lattice_params = np.array([lattice_param])\n",
    "    curr_lattice = copy.copy(lattice_param)\n",
    "    for scaling in scaling_params['scaling']:\n",
    "        curr_lattice['a'] = lattice_param['a'] + scaling\n",
    "        curr_lattice['b'] = lattice_param['b'] + scaling\n",
    "        curr_lattice['c'] = lattice_param['c'] + scaling\n",
    "        coor = np.concatenate([coor, np.array([genfcc(curr_lattice)])])\n",
    "        lattice_params = np.concatenate([lattice_params, np.array([copy.copy(curr_lattice)])])\n",
    "    coor = coor[1: ]\n",
    "    lattice_params = lattice_params[1: ]\n",
    "    return coor, lattice_params\n",
    "\n",
    "lattice_param = {'a': 4.4564, 'b': 4.4564, 'c': 4.4564, 'a2b': 90, 'b2c': 90, 'a2c': 90}\n",
    "scaling_params = {'scaling': np.arange(-0.6, 0.7, 0.1)}\n",
    "coor, lattice_param = lattice_constant_scaling(lattice_param, scaling_params)\n",
    "print lattice_param.shape"
   ]
  },
  {
   "cell_type": "code",
   "execution_count": null,
   "metadata": {
    "collapsed": false
   },
   "outputs": [],
   "source": []
  },
  {
   "cell_type": "code",
   "execution_count": 56,
   "metadata": {
    "collapsed": false
   },
   "outputs": [
    {
     "name": "stdout",
     "output_type": "stream",
     "text": [
      "(17,)\n"
     ]
    }
   ],
   "source": [
    "def monoclinic_strain(lattice_param, mstrain_params):\n",
    "    # return list of coor and list of lattice_param\n",
    "    coor = np.array([genfcc(lattice_param)])\n",
    "    lattice_params = np.array([lattice_param])\n",
    "    curr_lattice = copy.copy(lattice_param)\n",
    "    c_origin = lattice_param['c']\n",
    "    for disp in np.arange(mstrain_params['left'], mstrain_params['right']+mstrain_params['step'], mstrain_params['step']):\n",
    "        curr_lattice['a2c'] = np.arctan(c_origin/disp)/np.pi*180\n",
    "        if curr_lattice['a2c'] < 0:\n",
    "            curr_lattice['a2c'] = 180+curr_lattice['a2c']\n",
    "        curr_lattice['c'] = np.sqrt(c_origin**2+disp**2)\n",
    "        coor = np.concatenate([coor, np.array([genfcc(curr_lattice)])])\n",
    "        lattice_params = np.concatenate([lattice_params, np.array([copy.copy(curr_lattice)])])\n",
    "    coor = coor[1: ]\n",
    "    lattice_params = lattice_params[1: ]\n",
    "    return coor, lattice_params\n",
    "\n",
    "lattice_param = {'a': 4.4564, 'b': 4.4564, 'c': 4.4564, 'a2b': 90, 'b2c': 90, 'a2c': 90}\n",
    "mstrain_params = {'left': -1.6, 'right': 1.6, 'step': 0.2}\n",
    "coor, lattice_param = monoclinic_strain(lattice_param, mstrain_params)\n",
    "print lattice_param.shape"
   ]
  },
  {
   "cell_type": "code",
   "execution_count": 57,
   "metadata": {
    "collapsed": false
   },
   "outputs": [
    {
     "name": "stdout",
     "output_type": "stream",
     "text": [
      "(13,)\n"
     ]
    }
   ],
   "source": [
    "def orthorhombic_strain(lattice_param, ostrain_params):\n",
    "    # return list of coor and list of lattice_param\n",
    "    coor = np.array([genfcc(lattice_param)])\n",
    "    lattice_params = np.array([lattice_param])\n",
    "    curr_lattice = copy.copy(lattice_param)\n",
    "    ac = lattice_param['a']*lattice_param['c']\n",
    "    for strain in ostrain_params['strain']:\n",
    "        curr_lattice['a'] = lattice_param['a'] + strain\n",
    "        curr_lattice['c'] = ac / curr_lattice['a']\n",
    "        coor = np.concatenate([coor, np.array([genfcc(curr_lattice)])])\n",
    "        lattice_params = np.concatenate([lattice_params, np.array([copy.copy(curr_lattice)])])\n",
    "    coor = coor[1: ]\n",
    "    lattice_params = lattice_params[1: ]\n",
    "    return coor, lattice_params\n",
    "\n",
    "lattice_param = {'a': 4.4564, 'b': 4.4564, 'c': 4.4564, 'a2b': 90, 'b2c': 90, 'a2c': 90}\n",
    "ostrain_params = {'strain': np.arange(-0.6, 0.7, 0.1)}\n",
    "coor, lattice_param = orthorhombic_strain(lattice_param, ostrain_params)\n",
    "print lattice_param.shape"
   ]
  },
  {
   "cell_type": "code",
   "execution_count": 58,
   "metadata": {
    "collapsed": false
   },
   "outputs": [],
   "source": [
    " "
   ]
  },
  {
   "cell_type": "code",
   "execution_count": null,
   "metadata": {
    "collapsed": false
   },
   "outputs": [],
   "source": []
  },
  {
   "cell_type": "code",
   "execution_count": null,
   "metadata": {
    "collapsed": false
   },
   "outputs": [],
   "source": []
  },
  {
   "cell_type": "code",
   "execution_count": 136,
   "metadata": {
    "collapsed": false
   },
   "outputs": [],
   "source": [
    "elems = ['Au']*all_coor.shape[1]\n",
    "for i in range(all_coor.shape[0]):\n",
    "    car = coor2car(elems, all_coor[i], all_lattice[i])\n",
    "    with open('4atom_bulk_%d.car'%i, 'w') as fp:\n",
    "        fp.write(car)"
   ]
  },
  {
   "cell_type": "code",
   "execution_count": 61,
   "metadata": {
    "collapsed": false
   },
   "outputs": [
    {
     "data": {
      "text/plain": [
       "403"
      ]
     },
     "execution_count": 61,
     "metadata": {},
     "output_type": "execute_result"
    }
   ],
   "source": [
    "all_coor.shape[0]"
   ]
  },
  {
   "cell_type": "code",
   "execution_count": null,
   "metadata": {
    "collapsed": false
   },
   "outputs": [],
   "source": []
  },
  {
   "cell_type": "code",
   "execution_count": null,
   "metadata": {
    "collapsed": true
   },
   "outputs": [],
   "source": [
    "int __name__ == '__main__':\n",
    "    lattice_param = {'a': 4.4564, 'b': 4.4564, 'c': 4.4564, 'a2b': 90, 'b2c': 90, 'a2c': 90, 'PBC': True}\n",
    "    \n",
    "    scaling_params = {'scaling': np.arange(-0.6, 0.7, 0.1)}\n",
    "    mstrain_params = {'left': -1.6, 'right': 1.6, 'step': 0.2}\n",
    "    ostrain_params = {'strain': np.arange(-0.6, 0.7, 0.1)}\n",
    "    \n",
    "    coor_scaling, lattice_param_scaling = lattice_constant_scaling(lattice_param, scaling_params)\n",
    "    \n",
    "    all_lattice = copy.copy(lattice_param_scaling)\n",
    "    all_coor = copy.copy(coor_scaling)\n",
    "    \n",
    "    for i in range(lattice_param_scaling.shape[0]):\n",
    "        coor_monoclinic_strain, lattice_param_monoclinic_strain = monoclinic_strain(lattice_param_scaling[i], mstrain_params)\n",
    "        all_coor = np.concatenate([all_coor, coor_monoclinic_strain])\n",
    "        all_lattice = np.concatenate([all_lattice, lattice_param_monoclinic_strain])\n",
    "        \n",
    "    for i in range(lattice_param_scaling.shape[0]):\n",
    "        coor_orthorhombic_strain, lattice_param_orthorhombic_strain = orthorhombic_strain(lattice_param_scaling[i], ostrain_params)\n",
    "        all_coor = np.concatenate([all_coor, coor_orthorhombic_strain])\n",
    "        all_lattice = np.concatenate([all_lattice, lattice_param_orthorhombic_strain])  \n",
    "        \n",
    "    prefix = '4atom_bulk_'\n",
    "    calc_params = {}\n",
    "    calc_params['calculator'] = 'dmol3'\n",
    "    calc_params['calc_type'] = 'opt'\n",
    "    calc_params['natoms'] = 4\n",
    "    elems = np.array(['Au']*4)\n",
    "    for i in range(403):\n",
    "        movecall = 'cp opt.input %s%d.input'%(prefix, i)\n",
    "        call(movecall.split())\n",
    "        calc_params['project_name'] = '%s%d'%(prefix, i)\n",
    "        calc_params['calc_call'] = './RunDMol3.sh -np 24 ' + calc_params['project_name']\n",
    "        calc_params['calc_call'] = calc_params['calc_call'].split()\n",
    "        energy, elems, coor, force = call_dmol3(calc_params, elems, all_coor[i], all_lattice[i])\n",
    "        coor2xsf(elems, coor, all_lattice[i], force, des='# total energy = %.9 eV'%energy)"
   ]
  },
  {
   "cell_type": "code",
   "execution_count": null,
   "metadata": {
    "collapsed": true
   },
   "outputs": [],
   "source": []
  }
 ],
 "metadata": {
  "kernelspec": {
   "display_name": "Python 2",
   "language": "python",
   "name": "python2"
  },
  "language_info": {
   "codemirror_mode": {
    "name": "ipython",
    "version": 2
   },
   "file_extension": ".py",
   "mimetype": "text/x-python",
   "name": "python",
   "nbconvert_exporter": "python",
   "pygments_lexer": "ipython2",
   "version": "2.7.9"
  }
 },
 "nbformat": 4,
 "nbformat_minor": 0
}
