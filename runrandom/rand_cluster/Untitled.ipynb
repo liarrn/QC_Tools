{
 "cells": [
  {
   "cell_type": "code",
   "execution_count": 1,
   "metadata": {
    "collapsed": true
   },
   "outputs": [],
   "source": [
    "import numpy as np"
   ]
  },
  {
   "cell_type": "code",
   "execution_count": 2,
   "metadata": {
    "collapsed": true
   },
   "outputs": [],
   "source": [
    "def coor2xyz(elems, coor, des=''):\n",
    "    xyz = ''\n",
    "    natoms = coor.shape[0]\n",
    "    xyz += '%d\\n'%(natoms)\n",
    "    xyz += des.rstrip()\n",
    "    xyz += '\\n'\n",
    "    for i in range(natoms):\n",
    "        xyz += '%-5s%15.9f%15.9f%15.9f\\n'%(elems[i], coor[i][0], coor[i][1], coor[i][2])\n",
    "    return xyz\n",
    "\n",
    "def writexyz(filename, write_type, elems, coor, des=''):\n",
    "    with open(filename, write_type) as xyz_out_fp:\n",
    "        xyz = coor2xyz(elems, coor, des)\n",
    "        xyz_out_fp.write(xyz)"
   ]
  },
  {
   "cell_type": "code",
   "execution_count": 12,
   "metadata": {
    "collapsed": true
   },
   "outputs": [],
   "source": [
    "\n",
    "\n",
    "def toofar(atom ,coor, criteria, natoms):\n",
    "    #  return True if atom is too far away from cluster\n",
    "    #  return False if new atom is not too far away\n",
    "    is_toofar = True\n",
    "    for i in range(natoms):\n",
    "        dist = np.sqrt(np.sum((coor[i, :] - atom)**2))\n",
    "        if dist <= criteria:\n",
    "            is_toofar = False\n",
    "            break\n",
    "    return is_toofar\n",
    "\n",
    "def tooclose(atom ,coor, criteria, natoms):\n",
    "    #  return True if atom is too close away from cluster\n",
    "    #  return False if new atom is not too close\n",
    "    is_tooclose = False\n",
    "    for i in range(natoms):\n",
    "        dist = np.sqrt(np.sum((coor[i, :] - atom)**2))\n",
    "        if dist <= criteria:\n",
    "            is_tooclose = True\n",
    "            break\n",
    "    return is_tooclose\n",
    "\n",
    "def ball():\n",
    "    # return coor in a uniform ball\n",
    "    coor = np.random.rand(3) * 2 - 1\n",
    "    dist = np.sqrt(np.sum(coor**2))\n",
    "    while dist > 1.0:\n",
    "        coor = np.random.rand(3) * 2 - 1\n",
    "        dist = np.sqrt(np.sum(coor**2))\n",
    "    return coor\n",
    "\n",
    "def randcluster(natoms, rdmin, rdmax):\n",
    "    # return coor of rand cluster\n",
    "    length = (natoms*5.0)**(1/3.0)\n",
    "\n",
    "    coor = np.zeros([natoms, 3])\n",
    "    coor[0, : ] = ball()*length\n",
    "    is_fail = False\n",
    "    for i in range(1, natoms):\n",
    "        if is_fail == True:\n",
    "            break\n",
    "        is_satisfied = False\n",
    "        iteration = 0\n",
    "        newcoor = ball() * length\n",
    "        while is_satisfied == False:\n",
    "            iteration += 1\n",
    "            if iteration > 10000:\n",
    "                is_fail = True\n",
    "                break\n",
    "            is_satisfied = True\n",
    "            newcoor = ball() * length\n",
    "            if tooclose(newcoor, coor, rdmin, i) or toofar(newcoor, coor, rdmax, i):\n",
    "                is_satisfied = False\n",
    "        coor[i, :] = newcoor\n",
    "    if is_fail == True:\n",
    "        return -1\n",
    "    else:\n",
    "        return coor\n",
    "\n",
    "def make_center(coor):\n",
    "    # make the center of coor 0, 0, 0\n",
    "    natoms = coor.shape[0]\n",
    "    center = np.sum(coor, axis=0) / natoms\n",
    "    coor -= center\n",
    "    return coor"
   ]
  },
  {
   "cell_type": "code",
   "execution_count": 13,
   "metadata": {
    "collapsed": false
   },
   "outputs": [],
   "source": [
    "outpath = './test/'\n",
    "rdmin = 2.6\n",
    "rdmax = 3.4\n",
    "natoms = 4\n",
    "elems = ['Au'] * natoms\n",
    "for i in range(100):\n",
    "    coor = randcluster(natoms, rdmin, rdmax)\n",
    "    if type(coor) == int and coor == -1:\n",
    "        print 'error at %04d.xyz'%i\n",
    "        continue\n",
    "    coor = make_center(coor)\n",
    "    filename = outpath + '%04d.xyz'%i\n",
    "    writexyz(filename, 'w', elems, coor, des='')"
   ]
  },
  {
   "cell_type": "code",
   "execution_count": null,
   "metadata": {
    "collapsed": false
   },
   "outputs": [],
   "source": []
  },
  {
   "cell_type": "code",
   "execution_count": null,
   "metadata": {
    "collapsed": true
   },
   "outputs": [],
   "source": []
  },
  {
   "cell_type": "code",
   "execution_count": null,
   "metadata": {
    "collapsed": true
   },
   "outputs": [],
   "source": []
  },
  {
   "cell_type": "code",
   "execution_count": 4,
   "metadata": {
    "collapsed": false
   },
   "outputs": [],
   "source": [
    "rdmin = 2.6\n",
    "rdmax = 3.4\n",
    "natoms = 60\n",
    "\n",
    "coor = randcluster(natoms, rdmin, rdmax)"
   ]
  },
  {
   "cell_type": "code",
   "execution_count": 5,
   "metadata": {
    "collapsed": false
   },
   "outputs": [],
   "source": [
    "elems = ['Au'] * natoms\n",
    "filename = 'test.xyz'\n",
    "writexyz(filename, 'w', elems, coor, des='')"
   ]
  },
  {
   "cell_type": "code",
   "execution_count": 1,
   "metadata": {
    "collapsed": false
   },
   "outputs": [
    {
     "ename": "IndentationError",
     "evalue": "unindent does not match any outer indentation level (<ipython-input-1-ed9796f97f84>, line 86)",
     "output_type": "error",
     "traceback": [
      "\u001b[1;36m  File \u001b[1;32m\"<ipython-input-1-ed9796f97f84>\"\u001b[1;36m, line \u001b[1;32m86\u001b[0m\n\u001b[1;33m    if __name__ == '__main__':\u001b[0m\n\u001b[1;37m                              ^\u001b[0m\n\u001b[1;31mIndentationError\u001b[0m\u001b[1;31m:\u001b[0m unindent does not match any outer indentation level\n"
     ]
    }
   ],
   "source": [
    "import numpy as np\n",
    "\n",
    "def coor2xyz(elems, coor, des=''):\n",
    "    xyz = ''\n",
    "    natoms = coor.shape[0]\n",
    "    xyz += '%d\\n'%(natoms)\n",
    "    xyz += des.rstrip()\n",
    "    xyz += '\\n'\n",
    "    for i in range(natoms):\n",
    "        xyz += '%-5s%15.9f%15.9f%15.9f\\n'%(elems[i], coor[i][0], coor[i][1], coor[i][2])\n",
    "    return xyz\n",
    "\n",
    "def writexyz(filename, write_type, elems, coor, des=''):\n",
    "    with open(filename, write_type) as xyz_out_fp:\n",
    "        xyz = coor2xyz(elems, coor, des)\n",
    "        xyz_out_fp.write(xyz)\n",
    "        \n",
    "\n",
    "\n",
    "def toofar(atom ,coor, criteria, natoms):\n",
    "    #  return True if atom is too far away from cluster\n",
    "    #  return False if new atom is not too far away\n",
    "    is_toofar = True\n",
    "    for i in range(natoms):\n",
    "        dist = np.sqrt(np.sum((coor[i, :] - atom)**2))\n",
    "        if dist <= criteria:\n",
    "            is_toofar = False\n",
    "            break\n",
    "    return is_toofar\n",
    "\n",
    "def tooclose(atom ,coor, criteria, natoms):\n",
    "    #  return True if atom is too close away from cluster\n",
    "    #  return False if new atom is not too close\n",
    "    is_tooclose = False\n",
    "    for i in range(natoms):\n",
    "        dist = np.sqrt(np.sum((coor[i, :] - atom)**2))\n",
    "        if dist <= criteria:\n",
    "            is_tooclose = True\n",
    "            break\n",
    "    return is_tooclose\n",
    "\n",
    "def ball():\n",
    "    # return coor in a uniform ball\n",
    "    coor = np.random.rand(3) * 2 - 1\n",
    "    dist = np.sqrt(np.sum(coor**2))\n",
    "    while dist > 1.0:\n",
    "        coor = np.random.rand(3) * 2 - 1\n",
    "        dist = np.sqrt(np.sum(coor**2))\n",
    "    return coor\n",
    "\n",
    "def randcluster(natoms, rdmin, rdmax):\n",
    "    # return coor of rand cluster\n",
    "    length = (natoms*5.0)**(1/3.0)\n",
    "\n",
    "    coor = np.zeros([natoms, 3])\n",
    "    coor[0, : ] = ball()*length\n",
    "    is_fail = False\n",
    "    for i in range(1, natoms):\n",
    "        if is_fail == True:\n",
    "            break\n",
    "        is_satisfied = False\n",
    "        iteration = 0\n",
    "        newcoor = ball() * length\n",
    "        while is_satisfied == False:\n",
    "            iteration += 1\n",
    "            if iteration > 10000:\n",
    "                is_fail = True\n",
    "                break\n",
    "            is_satisfied = True\n",
    "            newcoor = ball() * length\n",
    "            if tooclose(newcoor, coor, rdmin, i) or toofar(newcoor, coor, rdmax, i):\n",
    "                is_satisfied = False\n",
    "        coor[i, :] = newcoor\n",
    "    if is_fail == True:\n",
    "        return -1\n",
    "    else:\n",
    "        return coor\n",
    "\n",
    "def make_center(coor):\n",
    "    # make the center of coor 0, 0, 0\n",
    "    natoms = coor.shape[0]\n",
    "    center = np.sum(coor, axis=0) / natoms\n",
    "    coor -= center\n",
    "    return coor\n",
    "\n",
    "if __name__ == '__main__':\n",
    "    outpath = './test/'\n",
    "    rdmin = 1.0\n",
    "    rdmax = 4.0\n",
    "    natoms = 4\n",
    "    num_config = 300\n",
    "    elems = ['Au'] * natoms\n",
    "    for i in range(num_config):\n",
    "        coor = randcluster(natoms, rdmin, rdmax)\n",
    "        if type(coor) == int and coor == -1:\n",
    "            print 'error at %04d.xyz'%i\n",
    "            continue\n",
    "        coor = make_center(coor)\n",
    "        filename = outpath + '%04d.xyz'%i\n",
    "        writexyz(filename, 'w', elems, coor, des='')"
   ]
  },
  {
   "cell_type": "code",
   "execution_count": null,
   "metadata": {
    "collapsed": true
   },
   "outputs": [],
   "source": []
  }
 ],
 "metadata": {
  "kernelspec": {
   "display_name": "Python 2",
   "language": "python",
   "name": "python2"
  },
  "language_info": {
   "codemirror_mode": {
    "name": "ipython",
    "version": 2
   },
   "file_extension": ".py",
   "mimetype": "text/x-python",
   "name": "python",
   "nbconvert_exporter": "python",
   "pygments_lexer": "ipython2",
   "version": "2.7.9"
  }
 },
 "nbformat": 4,
 "nbformat_minor": 0
}
