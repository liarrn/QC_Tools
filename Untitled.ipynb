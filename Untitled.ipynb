{
 "cells": [
  {
   "cell_type": "code",
   "execution_count": 1,
   "metadata": {
    "collapsed": true
   },
   "outputs": [],
   "source": [
    "import numpy as np\n",
    "import matplotlib.pyplot as plt\n",
    "%matplotlib inline\n",
    "\n"
   ]
  },
  {
   "cell_type": "code",
   "execution_count": 2,
   "metadata": {
    "collapsed": true
   },
   "outputs": [],
   "source": [
    "def DOS(filename, LDOS = False, atom_list=[]):\n",
    "    with open(filename, mode = 'r') as fp:\n",
    "        dos = fp.readlines()\n",
    "        num_of_state = int(dos[5].split()[2])\n",
    "        fermi_energy = float(dos[5].split()[3])\n",
    "        total_dos_block = dos[6 : 6+num_of_state]\n",
    "        total_dos_spin_up = np.array([ map(float, i.split())  for i in total_dos_block])[:, 1]\n",
    "        total_dos_spin_down = np.array([ map(float, i.split())  for i in total_dos_block])[:, 2]\n",
    "        dos_energy = np.array([ map(float, i.split())  for i in total_dos_block])[:, 0] - fermi_energy\n",
    "        total_dos = total_dos_spin_up + total_dos_spin_down\n",
    "        if not LDOS:\n",
    "            return dos_energy, total_dos_spin_up, total_dos_spin_down, total_dos\n",
    "        else:\n",
    "            dos_sum = np.zeros(num_of_state)\n",
    "            dos_s = np.zeros(num_of_state)\n",
    "            dos_p = np.zeros(num_of_state)\n",
    "            dos_d = np.zeros(num_of_state)\n",
    "            for atom_num in atom_list:\n",
    "                dos_atom_num = dos[6+atom_num*(num_of_state+1) : 5+(atom_num+1)*(num_of_state+1)]\n",
    "                dos_atom_num = np.array([ map(float, i.split())  for i in dos_atom_num])\n",
    "                dos_sum = dos_sum +  np.sum(dos_atom_num[:, 1:], axis = 1)\n",
    "                dos_s = dos_s + np.sum(dos_atom_num[:, 1:3], axis = 1)\n",
    "                dos_p = dos_p + np.sum(dos_atom_num[:, 3:9], axis = 1)\n",
    "                dos_d = dos_d + np.sum(dos_atom_num[:, 9:19], axis = 1)\n",
    "            return dos_energy, total_dos_spin_up, total_dos_spin_down, total_dos, dos_sum, dos_s, dos_p, dos_d\n"
   ]
  },
  {
   "cell_type": "code",
   "execution_count": null,
   "metadata": {
    "collapsed": true
   },
   "outputs": [],
   "source": [
    "dos_energy, total_dos_spin_up, total_dos_spin_down, total_dos, dos_sum, dos_s, dos_p, dos_d=  DOS('DOSCAR', True, range(1,5))\n",
    "plt.plot(dos_energy, total_dos, 'ro-', dos_energy, dos_sum, 'bo-')"
   ]
  }
 ],
 "metadata": {
  "kernelspec": {
   "display_name": "Python 2",
   "language": "python",
   "name": "python2"
  },
  "language_info": {
   "codemirror_mode": {
    "name": "ipython",
    "version": 2
   },
   "file_extension": ".py",
   "mimetype": "text/x-python",
   "name": "python",
   "nbconvert_exporter": "python",
   "pygments_lexer": "ipython2",
   "version": "2.7.9"
  }
 },
 "nbformat": 4,
 "nbformat_minor": 0
}
